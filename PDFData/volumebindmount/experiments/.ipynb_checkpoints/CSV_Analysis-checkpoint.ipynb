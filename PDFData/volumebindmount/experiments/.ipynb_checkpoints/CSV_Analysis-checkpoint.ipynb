{
 "cells": [
  {
   "cell_type": "markdown",
   "id": "694fc386-0a87-4360-b42f-1b5f902900ca",
   "metadata": {},
   "source": [
    "# CSV Analysis"
   ]
  },
  {
   "cell_type": "code",
   "execution_count": 72,
   "id": "4a844419-7e0d-41e0-a5bf-04d443424b6d",
   "metadata": {},
   "outputs": [
    {
     "data": {
      "text/plain": [
       "0                 Microcontroller \n",
       "1               Operating Voltage \n",
       "2     Input Voltage (recommended) \n",
       "3           Input Voltage (limit) \n",
       "4                Digital I/O Pins \n",
       "5               Analog Input Pins \n",
       "6          DC Current per I/O Pin \n",
       "7         DC Current for 3.3V Pin \n",
       "8                    Flash Memory \n",
       "9                            SRAM \n",
       "10                         EEPROM \n",
       "11                    Clock Speed \n",
       "12                    LED_BUILTIN \n",
       "13                         Length \n",
       "14                          Width \n",
       "15                         Weight \n",
       "18                           MEGA \n",
       "21           ELECTRONICE PLATTORN \n",
       "Name: Item, dtype: object"
      ]
     },
     "execution_count": 72,
     "metadata": {},
     "output_type": "execute_result"
    }
   ],
   "source": [
    "import pandas as pd\n",
    "\n",
    "df = pd.read_csv('output.csv')\n",
    "\n",
    "s_inner = df[df.columns[0]]\n",
    "\n",
    "df_inner = s_inner.to_frame().reset_index()\n",
    "\n",
    "df_inner.columns = ['Item','Metric','Filler']\n",
    "\n",
    "df_clean = df_inner['Item'].to_frame()\n",
    "\n",
    "df_clean['Metric'] = df_inner['Metric']\n",
    "\n",
    "df_clean_noNaN = df_clean.query('Item == Item').query('Metric == Metric')\n",
    "\n",
    "df_clean_noNaN['Item']\n"
   ]
  },
  {
   "cell_type": "code",
   "execution_count": 73,
   "id": "27480452-23b9-4ca6-91ff-ed79cbcb3c9d",
   "metadata": {},
   "outputs": [
    {
     "data": {
      "text/plain": [
       "'ATmega2560 '"
      ]
     },
     "execution_count": 73,
     "metadata": {},
     "output_type": "execute_result"
    }
   ],
   "source": [
    "search_item = \"Microcontroller\"\n",
    "\n",
    "df_clean_noNaN[df_clean_noNaN['Item'].str.contains(search_item, case=False)]['Metric'][0]"
   ]
  },
  {
   "cell_type": "code",
   "execution_count": null,
   "id": "d58f38f3-31c4-4a12-8797-7889d2fa21a7",
   "metadata": {},
   "outputs": [],
   "source": []
  }
 ],
 "metadata": {
  "kernelspec": {
   "display_name": "Python 3 (ipykernel)",
   "language": "python",
   "name": "python3"
  },
  "language_info": {
   "codemirror_mode": {
    "name": "ipython",
    "version": 3
   },
   "file_extension": ".py",
   "mimetype": "text/x-python",
   "name": "python",
   "nbconvert_exporter": "python",
   "pygments_lexer": "ipython3",
   "version": "3.10.5"
  }
 },
 "nbformat": 4,
 "nbformat_minor": 5
}
