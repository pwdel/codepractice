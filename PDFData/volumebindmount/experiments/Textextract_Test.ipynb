{
 "cells": [
  {
   "cell_type": "markdown",
   "id": "3e0e1fe6-2ffd-46ef-b38a-5bb9875bbc50",
   "metadata": {},
   "source": [
    "https://boto3.amazonaws.com/v1/documentation/api/latest/guide/quickstart.html#configuration\n",
    "\n",
    "https://docs.aws.amazon.com/code-samples/latest/catalog/code-catalog-python-example_code-textract.html\n",
    "\n",
    "https://docs.aws.amazon.com/textract/latest/dg/what-is.html\n"
   ]
  },
  {
   "cell_type": "code",
   "execution_count": 42,
   "id": "0386052f-4eca-4d45-b983-0cea5ba390ae",
   "metadata": {},
   "outputs": [
    {
     "name": "stdout",
     "output_type": "stream",
     "text": [
      "Collecting python-dotenv\n",
      "  Downloading python_dotenv-0.21.0-py3-none-any.whl (18 kB)\n",
      "Installing collected packages: python-dotenv\n",
      "Successfully installed python-dotenv-0.21.0\n",
      "Note: you may need to restart the kernel to use updated packages.\n"
     ]
    }
   ],
   "source": [
    "pip install python-dotenv"
   ]
  },
  {
   "cell_type": "code",
   "execution_count": 45,
   "id": "4a2d5b6b-f9f6-4820-8b73-bd8534772ed4",
   "metadata": {},
   "outputs": [],
   "source": [
    "%load_ext dotenv\n",
    "%dotenv /home/jovyan/work/.env"
   ]
  },
  {
   "cell_type": "code",
   "execution_count": 11,
   "id": "f78670db-f889-4d75-a375-1f0a9a6ae454",
   "metadata": {},
   "outputs": [],
   "source": [
    "# Copyright Amazon.com, Inc. or its affiliates. All Rights Reserved.\n",
    "# SPDX-License-Identifier: Apache-2.0\n",
    "\n",
    "\"\"\"\n",
    "Purpose\n",
    "\n",
    "Shows how to use the AWS SDK for Python (Boto3) with Amazon Textract to\n",
    "detect text, form, and table elements in document images.\n",
    "\"\"\"\n",
    "\n",
    "import json\n",
    "import logging\n",
    "import boto3\n",
    "from botocore.exceptions import ClientError\n",
    "\n",
    "logger = logging.getLogger(__name__)\n",
    "\n",
    "# snippet-start:[python.example_code.textract.TextractWrapper]\n",
    "class TextractWrapper:\n",
    "    \"\"\"Encapsulates Textract functions.\"\"\"\n",
    "    def __init__(self, textract_client, s3_resource, sqs_resource):\n",
    "        \"\"\"\n",
    "        :param textract_client: A Boto3 Textract client.\n",
    "        :param s3_resource: A Boto3 Amazon S3 resource.\n",
    "        :param sqs_resource: A Boto3 Amazon SQS resource.\n",
    "        \"\"\"\n",
    "        self.textract_client = textract_client\n",
    "        self.s3_resource = s3_resource\n",
    "        self.sqs_resource = sqs_resource\n",
    "    # snippet-end:[python.example_code.textract.TextractWrapper]\n",
    "    \n",
    "    # snippet-start:[python.example_code.textract.StartDocumentAnalysis]\n",
    "    def start_analysis_job(\n",
    "            self, bucket_name, document_file_name, feature_types, sns_topic_arn,\n",
    "            sns_role_arn):\n",
    "        \"\"\"\n",
    "        Starts an asynchronous job to detect text and additional elements, such as\n",
    "        forms or tables, in an image stored in an Amazon S3 bucket. Textract publishes\n",
    "        a notification to the specified Amazon SNS topic when the job completes.\n",
    "        The image must be in PNG, JPG, or PDF format.\n",
    "        :param bucket_name: The name of the Amazon S3 bucket that contains the image.\n",
    "        :param document_file_name: The name of the document image stored in Amazon S3.\n",
    "        :param feature_types: The types of additional document features to detect.\n",
    "        :param sns_topic_arn: The Amazon Resource Name (ARN) of an Amazon SNS topic\n",
    "                              where job completion notification is published.\n",
    "        :param sns_role_arn: The ARN of an AWS Identity and Access Management (IAM)\n",
    "                             role that can be assumed by Textract and grants permission\n",
    "                             to publish to the Amazon SNS topic.\n",
    "        :return: The ID of the job.\n",
    "        \"\"\"\n",
    "        try:\n",
    "            response = self.textract_client.start_document_analysis(\n",
    "                DocumentLocation={\n",
    "                    'S3Object': {'Bucket': bucket_name, 'Name': document_file_name}},\n",
    "                NotificationChannel={\n",
    "                    'SNSTopicArn': sns_topic_arn, 'RoleArn': sns_role_arn},\n",
    "                FeatureTypes=feature_types)\n",
    "            job_id = response['JobId']\n",
    "            logger.info(\n",
    "                \"Started text analysis job %s on %s.\", job_id, document_file_name)\n",
    "        except ClientError:\n",
    "            logger.exception(\"Couldn't analyze text in %s.\", document_file_name)\n",
    "            raise\n",
    "        else:\n",
    "            return job_id\n",
    "    # snippet-end:[python.example_code.textract.StartDocumentAnalysis]"
   ]
  },
  {
   "cell_type": "code",
   "execution_count": 62,
   "id": "e3072e37-e8cf-479e-b64d-616648a027b1",
   "metadata": {},
   "outputs": [
    {
     "name": "stdout",
     "output_type": "stream",
     "text": [
      "s3.ObjectSummary(bucket_name='textract-input-20221001', key='example.pdf')\n"
     ]
    },
    {
     "ename": "KeyError",
     "evalue": "'Blocks'",
     "output_type": "error",
     "traceback": [
      "\u001b[0;31m---------------------------------------------------------------------------\u001b[0m",
      "\u001b[0;31mKeyError\u001b[0m                                  Traceback (most recent call last)",
      "Input \u001b[0;32mIn [62]\u001b[0m, in \u001b[0;36m<cell line: 1>\u001b[0;34m()\u001b[0m\n\u001b[1;32m     38\u001b[0m job_id \u001b[38;5;241m=\u001b[39m response[\u001b[38;5;124m'\u001b[39m\u001b[38;5;124mJobId\u001b[39m\u001b[38;5;124m'\u001b[39m]\n\u001b[1;32m     39\u001b[0m logger\u001b[38;5;241m.\u001b[39minfo(\u001b[38;5;124m\"\u001b[39m\u001b[38;5;124mStarted text analysis job \u001b[39m\u001b[38;5;132;01m%s\u001b[39;00m\u001b[38;5;124m on \u001b[39m\u001b[38;5;132;01m%s\u001b[39;00m\u001b[38;5;124m.\u001b[39m\u001b[38;5;124m\"\u001b[39m, job_id, document_file_name)\n\u001b[0;32m---> 41\u001b[0m blocks\u001b[38;5;241m=\u001b[39m\u001b[43mresponse\u001b[49m\u001b[43m[\u001b[49m\u001b[38;5;124;43m'\u001b[39;49m\u001b[38;5;124;43mBlocks\u001b[39;49m\u001b[38;5;124;43m'\u001b[39;49m\u001b[43m]\u001b[49m\n\u001b[1;32m     43\u001b[0m \u001b[38;5;28;01mfor\u001b[39;00m block \u001b[38;5;129;01min\u001b[39;00m blocks:\n\u001b[1;32m     44\u001b[0m         \u001b[38;5;28;01mif\u001b[39;00m block[\u001b[38;5;124m'\u001b[39m\u001b[38;5;124mBlockType\u001b[39m\u001b[38;5;124m'\u001b[39m] \u001b[38;5;241m!=\u001b[39m \u001b[38;5;124m'\u001b[39m\u001b[38;5;124mPAGE\u001b[39m\u001b[38;5;124m'\u001b[39m:\n",
      "\u001b[0;31mKeyError\u001b[0m: 'Blocks'"
     ]
    }
   ],
   "source": [
    "if __name__ == \"__main__\":\n",
    "    \n",
    "    from dotenv import load_dotenv\n",
    "    import os\n",
    "    load_dotenv()\n",
    "\n",
    "    bucket_name = 'textract-input-20221001'\n",
    "    document_file_name=''\n",
    "    ACCESS_KEY = os.getenv(\"ACCESS_KEY\")\n",
    "    SECRET_KEY = os.getenv(\"SECRET_KEY\")\n",
    "\n",
    "    textractClient = boto3.client('textract', \n",
    "                          region_name='us-east-1', \n",
    "                          aws_access_key_id=ACCESS_KEY,\n",
    "                          aws_secret_access_key=SECRET_KEY)\n",
    "    \n",
    "    s3Resource = boto3.resource('s3',  \n",
    "                      aws_access_key_id=ACCESS_KEY,\n",
    "                      aws_secret_access_key=SECRET_KEY)\n",
    "    \n",
    "    # possible_feature_types = ['TABLES','FORMS','QUERIES']\n",
    "    feature_types = ['TABLES']\n",
    "    \n",
    "    # tWrapper = TextractWrapper(textractClient,s3Resource)\n",
    "    # tWrapper.start_analysis_job()\n",
    "\n",
    "    your_bucket = s3.Bucket(bucket_name)\n",
    "\n",
    "    extracted_data = []\n",
    "    for s3_file in your_bucket.objects.all():\n",
    "        print(s3_file)\n",
    "        \n",
    "        # use textract to process s3 file\n",
    "        response = client.start_document_analysis(\n",
    "                DocumentLocation={'S3Object': {'Bucket': bucket, 'Name': s3_file.key}},\n",
    "                FeatureTypes=feature_types)\n",
    "\n",
    "        job_id = response['JobId']\n",
    "        logger.info(\"Started text analysis job %s on %s.\", job_id, document_file_name)\n",
    "        \n",
    "        blocks=response['Blocks']\n",
    "\n",
    "        for block in blocks:\n",
    "                if block['BlockType'] != 'PAGE':\n",
    "                    print('Detected: ' + block['Text'])\n",
    "                    print('Confidence: ' + \"{:.2f}\".format(block['Confidence']) + \"%\")\n",
    "                    \n",
    "                    # Example case where you want to extract words with #\n",
    "                    if(\"#\" in block['Text']):\n",
    "                        words = block['Text'].split()\n",
    "                        for word in words:\n",
    "                               if(\"#\" in word):\n",
    "                                    extracted_data.append({\"word\" : word, \"file\" : s3_file.key, \"confidence\": \"{:.2f}\".format(block['Confidence']) + \"%\"})\n",
    "        \n",
    "        # sleep 2 seconds to prevent ProvisionedThroughputExceededException\n",
    "        sleep(2)\n",
    "\n",
    "    df = pd.DataFrame(extracted_data)\n",
    "    df = df.drop_duplicates()\n",
    "    df.to_csv('output.csv')"
   ]
  },
  {
   "cell_type": "code",
   "execution_count": null,
   "id": "ca105825-0ca3-43b9-86a9-034d574c2f17",
   "metadata": {},
   "outputs": [],
   "source": []
  }
 ],
 "metadata": {
  "kernelspec": {
   "display_name": "Python 3 (ipykernel)",
   "language": "python",
   "name": "python3"
  },
  "language_info": {
   "codemirror_mode": {
    "name": "ipython",
    "version": 3
   },
   "file_extension": ".py",
   "mimetype": "text/x-python",
   "name": "python",
   "nbconvert_exporter": "python",
   "pygments_lexer": "ipython3",
   "version": "3.10.5"
  }
 },
 "nbformat": 4,
 "nbformat_minor": 5
}
