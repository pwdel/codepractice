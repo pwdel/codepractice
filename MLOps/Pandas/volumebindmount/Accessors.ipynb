{
 "cells": [
  {
   "cell_type": "markdown",
   "id": "fed33e80-cd85-4c02-993b-c6981422850c",
   "metadata": {},
   "source": [
    "## pandas.Series.str\n",
    "\n",
    "The pandas.Series.str accessor methods allow you to:\n",
    "\n",
    "* capitalize\n",
    "* count\n",
    "* decode/encode\n",
    "* extract\n",
    "* find\n",
    "* join\n",
    "* replace\n",
    "* slice\n",
    "\n",
    "...and many more operations.  The documentation for strings starts [here](https://pandas.pydata.org/docs/reference/api/pandas.Series.str.capitalize.html#)"
   ]
  },
  {
   "cell_type": "code",
   "execution_count": null,
   "id": "6a50e53f-1673-47f3-bdb3-2387f6217996",
   "metadata": {},
   "outputs": [],
   "source": [
    "import pandas as pd"
   ]
  },
  {
   "cell_type": "code",
   "execution_count": 8,
   "id": "a07f7317-488b-476e-8276-d47526114833",
   "metadata": {},
   "outputs": [
    {
     "data": {
      "text/html": [
       "<div>\n",
       "<style scoped>\n",
       "    .dataframe tbody tr th:only-of-type {\n",
       "        vertical-align: middle;\n",
       "    }\n",
       "\n",
       "    .dataframe tbody tr th {\n",
       "        vertical-align: top;\n",
       "    }\n",
       "\n",
       "    .dataframe thead th {\n",
       "        text-align: right;\n",
       "    }\n",
       "</style>\n",
       "<table border=\"1\" class=\"dataframe\">\n",
       "  <thead>\n",
       "    <tr style=\"text-align: right;\">\n",
       "      <th></th>\n",
       "      <th>index</th>\n",
       "      <th>0</th>\n",
       "    </tr>\n",
       "  </thead>\n",
       "  <tbody>\n",
       "    <tr>\n",
       "      <th>0</th>\n",
       "      <td>0</td>\n",
       "      <td>I</td>\n",
       "    </tr>\n",
       "    <tr>\n",
       "      <th>1</th>\n",
       "      <td>0</td>\n",
       "      <td>like</td>\n",
       "    </tr>\n",
       "    <tr>\n",
       "      <th>2</th>\n",
       "      <td>0</td>\n",
       "      <td>cats,</td>\n",
       "    </tr>\n",
       "    <tr>\n",
       "      <th>3</th>\n",
       "      <td>0</td>\n",
       "      <td>dogs</td>\n",
       "    </tr>\n",
       "    <tr>\n",
       "      <th>4</th>\n",
       "      <td>0</td>\n",
       "      <td>and</td>\n",
       "    </tr>\n",
       "    <tr>\n",
       "      <th>5</th>\n",
       "      <td>0</td>\n",
       "      <td>lizards.</td>\n",
       "    </tr>\n",
       "  </tbody>\n",
       "</table>\n",
       "</div>"
      ],
      "text/plain": [
       "   index         0\n",
       "0      0         I\n",
       "1      0      like\n",
       "2      0     cats,\n",
       "3      0      dogs\n",
       "4      0       and\n",
       "5      0  lizards."
      ]
     },
     "execution_count": 8,
     "metadata": {},
     "output_type": "execute_result"
    }
   ],
   "source": [
    "text = \"I like cats, dogs and lizards.\"\n",
    "data_table = pd.Series(text).str.split().explode().reset_index(drop=False)\n",
    "data_table"
   ]
  },
  {
   "cell_type": "code",
   "execution_count": 21,
   "id": "31371bf7-64c6-4c65-b3bb-ef0685eb1113",
   "metadata": {},
   "outputs": [
    {
     "data": {
      "text/plain": [
       "0    1\n",
       "dtype: int64"
      ]
     },
     "execution_count": 21,
     "metadata": {},
     "output_type": "execute_result"
    }
   ],
   "source": [
    "pd.Series(text).str.count(\"like\")"
   ]
  },
  {
   "cell_type": "code",
   "execution_count": 25,
   "id": "403bd7c1-2397-41fb-80a5-ab5c758f1790",
   "metadata": {},
   "outputs": [
    {
     "data": {
      "text/plain": [
       "0    b'I like cats, dogs and lizards.'\n",
       "dtype: object"
      ]
     },
     "execution_count": 25,
     "metadata": {},
     "output_type": "execute_result"
    }
   ],
   "source": [
    "# https://docs.python.org/3/library/codecs.html#standard-encodings\n",
    "ascii_text = pd.Series(text).str.encode('ascii')\n",
    "ascii_text"
   ]
  },
  {
   "cell_type": "code",
   "execution_count": 26,
   "id": "ed430a05-2cbe-4724-8cae-a6a7271ea398",
   "metadata": {},
   "outputs": [
    {
     "data": {
      "text/plain": [
       "0    I like cats, dogs and lizards.\n",
       "dtype: object"
      ]
     },
     "execution_count": 26,
     "metadata": {},
     "output_type": "execute_result"
    }
   ],
   "source": [
    "pd.Series(ascii_text).str.decode('ascii')"
   ]
  },
  {
   "cell_type": "markdown",
   "id": "e68f8c93-9d2f-430b-9f20-9cca0847fc08",
   "metadata": {},
   "source": [
    "## pandas.Series.dt\n",
    "\n",
    "The pandas.Series.dt accessor methods allow you to cut up and work with datetimes in a variety of ways. The documentation for datetime starts [here](https://pandas.pydata.org/docs/reference/api/pandas.Series.dt.date.html)"
   ]
  },
  {
   "cell_type": "code",
   "execution_count": 40,
   "id": "c315cfef-8441-4113-b9c3-2314a8b74c89",
   "metadata": {},
   "outputs": [
    {
     "data": {
      "text/plain": [
       "0        Sunday\n",
       "1        Monday\n",
       "2      Thursday\n",
       "3      Saturday\n",
       "4       Tuesday\n",
       "5      Thursday\n",
       "6        Sunday\n",
       "7     Wednesday\n",
       "8        Friday\n",
       "9        Monday\n",
       "10    Wednesday\n",
       "11     Saturday\n",
       "dtype: object"
      ]
     },
     "execution_count": 40,
     "metadata": {},
     "output_type": "execute_result"
    }
   ],
   "source": [
    "# example\n",
    "dateseries = pd.Series(pd.date_range(\"1892-01-01\",periods=12, freq='1M'))\n",
    "dateseries.dt.day_name()"
   ]
  },
  {
   "cell_type": "markdown",
   "id": "db55ce92-58f6-45a7-ac05-c6af067226b1",
   "metadata": {},
   "source": [
    "## pandas.Series.cat\n",
    "\n",
    "The pandas.Series.cat accessor methods allow you to cut up and work with datetimes in a variety of ways, including:\n",
    "\n",
    "* renaming categories\n",
    "* reordering categories\n",
    "* removing categories\n",
    "* creating unordered categories\n",
    "* and other operations.\n",
    "\n",
    "The documentation for datetime starts [here](https://pandas.pydata.org/docs/reference/api/pandas.Series.cat.categories.html)"
   ]
  },
  {
   "cell_type": "code",
   "execution_count": 54,
   "id": "8b0cc517-b2d1-4a7b-bcab-a792cc1b8e6e",
   "metadata": {},
   "outputs": [
    {
     "name": "stdout",
     "output_type": "stream",
     "text": [
      "Original series setup: \n",
      "0     Mammal\n",
      "1       Bird\n",
      "2       Bird\n",
      "3     Mammal\n",
      "4    Reptile\n",
      "5       Bird\n",
      "6    Reptile\n",
      "dtype: category\n",
      "Categories (3, object): ['Bird', 'Mammal', 'Reptile']\n",
      "Find all category possibilities: \n",
      "Tokenize or rename categories: \n",
      "0    2\n",
      "1    1\n",
      "2    1\n",
      "3    2\n",
      "4    0\n",
      "5    1\n",
      "6    0\n",
      "dtype: category\n",
      "Categories (3, int64): [1, 2, 0]\n"
     ]
    }
   ],
   "source": [
    "# the dtype must be declared as category\n",
    "print(\"Original series setup: \")\n",
    "catseries = pd.Series(['Mammal','Bird','Bird','Mammal','Reptile','Bird','Reptile'],dtype='category')\n",
    "print(catseries)\n",
    "print(\"Find all category possibilities: \")\n",
    "catseries.cat.categories\n",
    "print(\"Tokenize or rename categories: \")\n",
    "newnames = catseries.cat.rename_categories({'Bird':1, 'Mammal':2, 'Reptile':0})\n",
    "print(newnames)"
   ]
  },
  {
   "cell_type": "markdown",
   "id": "fa1f8ba1-cbaa-465e-a415-421b8d108ee0",
   "metadata": {},
   "source": [
    "## pandas.Series.sparse\n",
    "\n",
    "If most of the elements in a matrix, series, or dataframe contain zeros, then it's a sparce matrix.  This is useful for minimizing memory usage in big data.\n",
    "\n",
    "The pandas.Series.sparse accessor methods allow you to cut up and work with datetimes in a variety of ways, including:\n",
    "\n",
    "* checking the density, fill value\n",
    "* looking at the sparse values only\n",
    "* using the coo format for constructing sparse matricies\n",
    "\n",
    "The documentation for datetime starts [here](https://pandas.pydata.org/docs/reference/api/pandas.Series.sparse.npoints.html)"
   ]
  },
  {
   "cell_type": "code",
   "execution_count": 78,
   "id": "67901c0b-cf74-4b1b-a7e9-69695e1c8e5f",
   "metadata": {},
   "outputs": [
    {
     "name": "stdout",
     "output_type": "stream",
     "text": [
      "(array([0., 1.]), array([999985,     15]))\n",
      "sparseseries memory usage:  308\n",
      "regularseries memory usage:  8000128\n",
      "sparseseries npoints:  15\n",
      "sparseseries density:  1.5e-05\n",
      "sparseseries fill_value:  0\n",
      "sparseseries sp_values:  [1 1 1 1 1 1 1 1 1 1 1 1 1 1 1]\n",
      "sparseseries from_coo:  <bound method SparseAccessor.from_coo of <class 'pandas.core.arrays.sparse.accessor.SparseAccessor'>>\n",
      "sparseseries to_coo:  <bound method SparseAccessor.to_coo of <pandas.core.arrays.sparse.accessor.SparseAccessor object at 0x7fd7257d9630>>\n"
     ]
    }
   ],
   "source": [
    "import numpy as np\n",
    "arr = np.zeros(1000000)\n",
    "arr[:15] = 1\n",
    "\n",
    "print(np.unique(arr, return_counts=True))\n",
    "\n",
    "# dtype must be Sparce\n",
    "sparseseries = pd.Series(arr, dtype=\"Sparse[int]\")\n",
    "regularseries = pd.Series(arr)\n",
    "\n",
    "print(\"sparseseries memory usage: \",sparseseries.memory_usage())\n",
    "print(\"regularseries memory usage: \",regularseries.memory_usage())\n",
    "\n",
    "print(\"sparseseries npoints: \",sparseseries.sparse.npoints)\n",
    "print(\"sparseseries density: \",sparseseries.sparse.density)\n",
    "print(\"sparseseries fill_value: \",sparseseries.sparse.fill_value)\n",
    "print(\"sparseseries sp_values: \",sparseseries.sparse.sp_values)\n",
    "print(\"sparseseries from_coo: \",sparseseries.sparse.from_coo)\n",
    "print(\"sparseseries to_coo: \",sparseseries.sparse.to_coo)"
   ]
  },
  {
   "cell_type": "code",
   "execution_count": null,
   "id": "b375c2ab-96da-47da-97e3-e898ec14f321",
   "metadata": {},
   "outputs": [],
   "source": []
  }
 ],
 "metadata": {
  "kernelspec": {
   "display_name": "Python 3 (ipykernel)",
   "language": "python",
   "name": "python3"
  },
  "language_info": {
   "codemirror_mode": {
    "name": "ipython",
    "version": 3
   },
   "file_extension": ".py",
   "mimetype": "text/x-python",
   "name": "python",
   "nbconvert_exporter": "python",
   "pygments_lexer": "ipython3",
   "version": "3.10.5"
  }
 },
 "nbformat": 4,
 "nbformat_minor": 5
}
