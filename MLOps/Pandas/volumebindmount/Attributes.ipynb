{
 "cells": [
  {
   "cell_type": "code",
   "execution_count": 6,
   "id": "f2277171-1970-4f83-90cd-1abf28feaa25",
   "metadata": {},
   "outputs": [
    {
     "data": {
      "text/html": [
       "<div>\n",
       "<style scoped>\n",
       "    .dataframe tbody tr th:only-of-type {\n",
       "        vertical-align: middle;\n",
       "    }\n",
       "\n",
       "    .dataframe tbody tr th {\n",
       "        vertical-align: top;\n",
       "    }\n",
       "\n",
       "    .dataframe thead th {\n",
       "        text-align: right;\n",
       "    }\n",
       "</style>\n",
       "<table border=\"1\" class=\"dataframe\">\n",
       "  <thead>\n",
       "    <tr style=\"text-align: right;\">\n",
       "      <th></th>\n",
       "      <th>Student</th>\n",
       "      <th>Grades</th>\n",
       "      <th>Topics</th>\n",
       "    </tr>\n",
       "  </thead>\n",
       "  <tbody>\n",
       "    <tr>\n",
       "      <th>0</th>\n",
       "      <td>Patrick</td>\n",
       "      <td>5</td>\n",
       "      <td>MLOps</td>\n",
       "    </tr>\n",
       "    <tr>\n",
       "      <th>1</th>\n",
       "      <td>You</td>\n",
       "      <td>10</td>\n",
       "      <td>Pandas</td>\n",
       "    </tr>\n",
       "    <tr>\n",
       "      <th>2</th>\n",
       "      <td>Me</td>\n",
       "      <td>1</td>\n",
       "      <td>Tensorflow</td>\n",
       "    </tr>\n",
       "    <tr>\n",
       "      <th>3</th>\n",
       "      <td>Other</td>\n",
       "      <td>7</td>\n",
       "      <td>Other</td>\n",
       "    </tr>\n",
       "  </tbody>\n",
       "</table>\n",
       "</div>"
      ],
      "text/plain": [
       "   Student  Grades      Topics\n",
       "0  Patrick       5       MLOps\n",
       "1      You      10      Pandas\n",
       "2       Me       1  Tensorflow\n",
       "3    Other       7       Other"
      ]
     },
     "metadata": {},
     "output_type": "display_data"
    }
   ],
   "source": [
    "# Python program to implement\n",
    "# index attribute in a dataframe object\n",
    "import pandas as pd\n",
    " \n",
    "# creating a 2D dictionary\n",
    "dict = {\"Student\": [\"Patrick\", \"You\",\n",
    "                    \"Me\", \"Other\"],\n",
    "        \"Grades\": [5, 10, 1, 7,],\n",
    "        \"Topics\": [\"MLOps\", \"Pandas\",\n",
    "                   \"Tensorflow\", \"Other\"]}\n",
    " \n",
    "# creating a DataFrame\n",
    "df = pd.DataFrame(dict)\n",
    " \n",
    "# printing this DataFrame on the\n",
    "# output screen\n",
    "display(df)"
   ]
  },
  {
   "cell_type": "markdown",
   "id": "e06c5c7a-2e8b-4a5d-afd2-f73336bc6a32",
   "metadata": {},
   "source": [
    "## Attributes\n",
    "\n",
    "The attributes of the dataframe include:\n",
    "\n",
    "* index\n",
    "* columns\n",
    "* axes\n",
    "* dtypes\n",
    "* size\n",
    "* shape\n",
    "* ndim\n",
    "* empty\n",
    "* T\n",
    "* values"
   ]
  },
  {
   "cell_type": "code",
   "execution_count": 9,
   "id": "a90c2f63-f37a-4452-8aca-527a52f70451",
   "metadata": {},
   "outputs": [
    {
     "name": "stdout",
     "output_type": "stream",
     "text": [
      "index attribute:  RangeIndex(start=0, stop=4, step=1)\n",
      "columns attribute:  Index(['Student', 'Grades', 'Topics'], dtype='object')\n",
      "axes attribute:  [RangeIndex(start=0, stop=4, step=1), Index(['Student', 'Grades', 'Topics'], dtype='object')]\n",
      "dtypes attribute:  Student    object\n",
      "Grades      int64\n",
      "Topics     object\n",
      "dtype: object\n",
      "size attribute:  12\n",
      "shape attribute:  (4, 3)\n",
      "ndim attribute:  2\n",
      "empty attribute:  False\n",
      "T (transpose) attribute:                 0       1           2      3\n",
      "Student  Patrick     You          Me  Other\n",
      "Grades         5      10           1      7\n",
      "Topics     MLOps  Pandas  Tensorflow  Other\n",
      "values attribute:  [['Patrick' 5 'MLOps']\n",
      " ['You' 10 'Pandas']\n",
      " ['Me' 1 'Tensorflow']\n",
      " ['Other' 7 'Other']]\n"
     ]
    }
   ],
   "source": [
    "print(\"index attribute: \",df.index)\n",
    "print(\"columns attribute: \",df.columns)\n",
    "print(\"axes attribute: \",df.axes)\n",
    "print(\"dtypes attribute: \",df.dtypes)\n",
    "print(\"size attribute: \",df.size)\n",
    "print(\"shape attribute: \",df.shape)\n",
    "print(\"ndim attribute: \",df.ndim)\n",
    "print(\"empty attribute: \",df.empty)\n",
    "print(\"T (transpose) attribute: \",df.T)\n",
    "print(\"values attribute: \",df.values)"
   ]
  },
  {
   "cell_type": "code",
   "execution_count": null,
   "id": "63e3d9ba-d4dc-43e9-934e-ed8439407e2d",
   "metadata": {},
   "outputs": [],
   "source": []
  }
 ],
 "metadata": {
  "kernelspec": {
   "display_name": "Python 3 (ipykernel)",
   "language": "python",
   "name": "python3"
  },
  "language_info": {
   "codemirror_mode": {
    "name": "ipython",
    "version": 3
   },
   "file_extension": ".py",
   "mimetype": "text/x-python",
   "name": "python",
   "nbconvert_exporter": "python",
   "pygments_lexer": "ipython3",
   "version": "3.10.5"
  }
 },
 "nbformat": 4,
 "nbformat_minor": 5
}
