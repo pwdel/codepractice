{
 "cells": [
  {
   "cell_type": "markdown",
   "id": "0105fb52-d04e-499f-9c87-4ac2d1d1eb62",
   "metadata": {},
   "source": [
    "## Extracting Essays into Dataframes"
   ]
  },
  {
   "cell_type": "code",
   "execution_count": 6,
   "id": "af64b2c7-1777-40cf-ac0e-799385ffe45d",
   "metadata": {},
   "outputs": [],
   "source": [
    "import pandas as pd\n",
    "df = pd.read_csv('./AES/test_set.tsv', encoding = 'ISO-8859-1',sep='\\t')"
   ]
  },
  {
   "cell_type": "code",
   "execution_count": 7,
   "id": "a9e6ad70-7bdd-40c7-b483-47ada4152eea",
   "metadata": {},
   "outputs": [
    {
     "data": {
      "text/html": [
       "<div>\n",
       "<style scoped>\n",
       "    .dataframe tbody tr th:only-of-type {\n",
       "        vertical-align: middle;\n",
       "    }\n",
       "\n",
       "    .dataframe tbody tr th {\n",
       "        vertical-align: top;\n",
       "    }\n",
       "\n",
       "    .dataframe thead th {\n",
       "        text-align: right;\n",
       "    }\n",
       "</style>\n",
       "<table border=\"1\" class=\"dataframe\">\n",
       "  <thead>\n",
       "    <tr style=\"text-align: right;\">\n",
       "      <th></th>\n",
       "      <th>essay_id</th>\n",
       "      <th>essay_set</th>\n",
       "      <th>essay</th>\n",
       "      <th>domain1_predictionid</th>\n",
       "      <th>domain2_predictionid</th>\n",
       "    </tr>\n",
       "  </thead>\n",
       "  <tbody>\n",
       "    <tr>\n",
       "      <th>0</th>\n",
       "      <td>2383</td>\n",
       "      <td>1</td>\n",
       "      <td>I believe that computers have a positive effec...</td>\n",
       "      <td>2383</td>\n",
       "      <td>NaN</td>\n",
       "    </tr>\n",
       "    <tr>\n",
       "      <th>1</th>\n",
       "      <td>2384</td>\n",
       "      <td>1</td>\n",
       "      <td>Dear @CAPS1, I know some problems have came up...</td>\n",
       "      <td>2384</td>\n",
       "      <td>NaN</td>\n",
       "    </tr>\n",
       "    <tr>\n",
       "      <th>2</th>\n",
       "      <td>2385</td>\n",
       "      <td>1</td>\n",
       "      <td>Dear to whom it @MONTH1 concern, Computers are...</td>\n",
       "      <td>2385</td>\n",
       "      <td>NaN</td>\n",
       "    </tr>\n",
       "    <tr>\n",
       "      <th>3</th>\n",
       "      <td>2386</td>\n",
       "      <td>1</td>\n",
       "      <td>Dear @CAPS1 @CAPS2, @CAPS3 has come to my atte...</td>\n",
       "      <td>2386</td>\n",
       "      <td>NaN</td>\n",
       "    </tr>\n",
       "    <tr>\n",
       "      <th>4</th>\n",
       "      <td>2387</td>\n",
       "      <td>1</td>\n",
       "      <td>Dear Local newspaper, I think that people have...</td>\n",
       "      <td>2387</td>\n",
       "      <td>NaN</td>\n",
       "    </tr>\n",
       "    <tr>\n",
       "      <th>...</th>\n",
       "      <td>...</td>\n",
       "      <td>...</td>\n",
       "      <td>...</td>\n",
       "      <td>...</td>\n",
       "      <td>...</td>\n",
       "    </tr>\n",
       "    <tr>\n",
       "      <th>4249</th>\n",
       "      <td>22238</td>\n",
       "      <td>8</td>\n",
       "      <td>Just One @CAPS1 @CAPS2 can bring people togeth...</td>\n",
       "      <td>25238</td>\n",
       "      <td>NaN</td>\n",
       "    </tr>\n",
       "    <tr>\n",
       "      <th>4250</th>\n",
       "      <td>22239</td>\n",
       "      <td>8</td>\n",
       "      <td>@CAPS8 Was my first time going to the band ca...</td>\n",
       "      <td>25239</td>\n",
       "      <td>NaN</td>\n",
       "    </tr>\n",
       "    <tr>\n",
       "      <th>4251</th>\n",
       "      <td>22240</td>\n",
       "      <td>8</td>\n",
       "      <td>Laughter is one of the most important things i...</td>\n",
       "      <td>25240</td>\n",
       "      <td>NaN</td>\n",
       "    </tr>\n",
       "    <tr>\n",
       "      <th>4252</th>\n",
       "      <td>22241</td>\n",
       "      <td>8</td>\n",
       "      <td>A @CAPS1 Of @C...</td>\n",
       "      <td>25241</td>\n",
       "      <td>NaN</td>\n",
       "    </tr>\n",
       "    <tr>\n",
       "      <th>4253</th>\n",
       "      <td>22242</td>\n",
       "      <td>8</td>\n",
       "      <td>Good @CAPS1 In @LOCATION1.  Every year a sel...</td>\n",
       "      <td>25242</td>\n",
       "      <td>NaN</td>\n",
       "    </tr>\n",
       "  </tbody>\n",
       "</table>\n",
       "<p>4254 rows × 5 columns</p>\n",
       "</div>"
      ],
      "text/plain": [
       "      essay_id  essay_set                                              essay  \\\n",
       "0         2383          1  I believe that computers have a positive effec...   \n",
       "1         2384          1  Dear @CAPS1, I know some problems have came up...   \n",
       "2         2385          1  Dear to whom it @MONTH1 concern, Computers are...   \n",
       "3         2386          1  Dear @CAPS1 @CAPS2, @CAPS3 has come to my atte...   \n",
       "4         2387          1  Dear Local newspaper, I think that people have...   \n",
       "...        ...        ...                                                ...   \n",
       "4249     22238          8  Just One @CAPS1 @CAPS2 can bring people togeth...   \n",
       "4250     22239          8   @CAPS8 Was my first time going to the band ca...   \n",
       "4251     22240          8  Laughter is one of the most important things i...   \n",
       "4252     22241          8                                  A @CAPS1 Of @C...   \n",
       "4253     22242          8    Good @CAPS1 In @LOCATION1.  Every year a sel...   \n",
       "\n",
       "      domain1_predictionid  domain2_predictionid  \n",
       "0                     2383                   NaN  \n",
       "1                     2384                   NaN  \n",
       "2                     2385                   NaN  \n",
       "3                     2386                   NaN  \n",
       "4                     2387                   NaN  \n",
       "...                    ...                   ...  \n",
       "4249                 25238                   NaN  \n",
       "4250                 25239                   NaN  \n",
       "4251                 25240                   NaN  \n",
       "4252                 25241                   NaN  \n",
       "4253                 25242                   NaN  \n",
       "\n",
       "[4254 rows x 5 columns]"
      ]
     },
     "execution_count": 7,
     "metadata": {},
     "output_type": "execute_result"
    }
   ],
   "source": [
    "df"
   ]
  },
  {
   "cell_type": "code",
   "execution_count": 13,
   "id": "feb5c436-068f-4f26-8027-0c29dd67d31b",
   "metadata": {},
   "outputs": [
    {
     "data": {
      "text/plain": [
       "\"I believe that computers have a positive effect on people. They help you stay in touch with family in a couple different ways they excercise your mind and hands and help you learn and make things easier. Computer's help you keep in touch with people. Say you live in @LOCATION1 and you miss your @CAPS1. You can just send an e-mail and talk all you want. If you don't just want to limit it to words you can add pictures so they can see how much you've grown or if you are well. Even if you're just e-mailing someone down the block it is just as effective as getting up and walking over there. You can also use a computer to make a scrap book card or slide show to show how much you love the person you give them to. Computers @MONTH1 not excercise you whole body but it excersises you mind and hands. You could play solitaire on the computer and come away @PERCENT1 smarter than before. You can play other games of strategy like checkers and chess while still sitting at home being comfortable. Your hands always play a big role while you're on the computer. They need to move the mouse and press the keys on a keyboard. Your hands learn all the keys from memorization. It's like the computer's teaching handi-coordination and studying habit for the future. Computers make human lives easier. Not only do they help kids turn in a nice neatly printed piece or paper for home work but they also help the average person. Teachers use it to keep peoples grades in order and others use it to write reports for various jobs. The @CAPS2 probably uses one to write a speech or to just keep his day in order. Computers make it easier to learn certain topics like the @LOCATION2 history. You can type something into a searcher site and have ton's of websites for one person with, who knows how much imformation. Instead of flipping through all the pages in a dictionary you can look for an online dictionary, type in the word and you have the definition. Computers have positive effects on people because they help you keep close to your family, they challenge your mind to be greater and excercise your hands and they make life easier for kids and the average person. This is why, I think computers have good effects on society.\""
      ]
     },
     "execution_count": 13,
     "metadata": {},
     "output_type": "execute_result"
    }
   ],
   "source": [
    "df[\"essay\"][0]"
   ]
  },
  {
   "cell_type": "code",
   "execution_count": null,
   "id": "7368fcea-ebbd-4a9e-a3b6-2344ef49e7c3",
   "metadata": {},
   "outputs": [],
   "source": []
  }
 ],
 "metadata": {
  "kernelspec": {
   "display_name": "Python 3 (ipykernel)",
   "language": "python",
   "name": "python3"
  },
  "language_info": {
   "codemirror_mode": {
    "name": "ipython",
    "version": 3
   },
   "file_extension": ".py",
   "mimetype": "text/x-python",
   "name": "python",
   "nbconvert_exporter": "python",
   "pygments_lexer": "ipython3",
   "version": "3.10.5"
  }
 },
 "nbformat": 4,
 "nbformat_minor": 5
}
