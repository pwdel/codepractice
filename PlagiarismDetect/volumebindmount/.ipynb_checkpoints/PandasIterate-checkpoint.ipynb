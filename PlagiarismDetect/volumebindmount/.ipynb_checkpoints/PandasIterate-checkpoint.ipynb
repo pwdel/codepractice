{
 "cells": [
  {
   "cell_type": "code",
   "execution_count": 172,
   "id": "29badcd0-ccaa-4e50-a649-4d23773e8d6a",
   "metadata": {},
   "outputs": [
    {
     "name": "stdout",
     "output_type": "stream",
     "text": [
      "12976\n"
     ]
    }
   ],
   "source": [
    "import pandas as pd\n",
    "df = pd.read_csv('./AES/processed_data.csv', encoding = 'ISO-8859-1')\n",
    "\n",
    "df1 = df[['essay']]\n",
    "\n",
    "df_dict = df1.to_dict('dict')\n",
    "\n",
    "count=0\n",
    "for key in df_dict['essay']:\n",
    "    count = count+1\n",
    "    \n",
    "print(count)"
   ]
  },
  {
   "cell_type": "code",
   "execution_count": 37,
   "id": "e980d521-78e3-4908-980d-bc68896356f8",
   "metadata": {},
   "outputs": [
    {
     "data": {
      "text/plain": [
       "str"
      ]
     },
     "execution_count": 37,
     "metadata": {},
     "output_type": "execute_result"
    }
   ],
   "source": [
    "df_dict['essay'][0]\n",
    "type(df_dict['essay'][0])"
   ]
  },
  {
   "cell_type": "code",
   "execution_count": 47,
   "id": "57828d99-ee24-4ee4-9dc8-9c8223456ad5",
   "metadata": {},
   "outputs": [],
   "source": [
    "import time\n",
    "from sentence_transformers import SentenceTransformer, util\n",
    "sentences = [df_dict['essay'][0], df_dict['essay'][1]]\n",
    "\n",
    "model = SentenceTransformer('sentence-transformers/all-MiniLM-L6-v2')\n",
    "\n",
    "#Compute embedding for both lists\n",
    "embedding_1= model.encode(sentences[0], convert_to_tensor=True)\n",
    "embedding_2 = model.encode(sentences[1], convert_to_tensor=True)"
   ]
  },
  {
   "cell_type": "code",
   "execution_count": 146,
   "id": "14b5108a-1276-4214-9faf-91f74d7b2522",
   "metadata": {},
   "outputs": [
    {
     "name": "stdout",
     "output_type": "stream",
     "text": [
      "tensor([[0.6636]])\n",
      "CPU times: user 204 ms, sys: 5.02 ms, total: 209 ms\n",
      "Wall time: 80.8 ms\n"
     ]
    }
   ],
   "source": [
    "%%time\n",
    "embedding_2 = model.encode(sentences[1], convert_to_tensor=True)\n",
    "meas_test = util.pytorch_cos_sim(embedding_1, embedding_2)\n",
    "print(meas_00_01)"
   ]
  },
  {
   "cell_type": "code",
   "execution_count": 147,
   "id": "e071d7d5-799f-40cf-9d3c-4db91472631d",
   "metadata": {},
   "outputs": [
    {
     "name": "stdout",
     "output_type": "stream",
     "text": [
      "45.199733333333334\n",
      "17.47434666666667\n"
     ]
    }
   ],
   "source": [
    "print(0.209*12976/60)\n",
    "print(0.0808*12976/60)"
   ]
  },
  {
   "cell_type": "code",
   "execution_count": null,
   "id": "cd9fb406-623c-4af3-a37e-7ee2566ae56b",
   "metadata": {},
   "outputs": [],
   "source": [
    "from sentence_transformers import SentenceTransformer, util\n",
    "model = SentenceTransformer('sentence-transformers/all-MiniLM-L6-v2')\n",
    "embedding_1 = model.encode(sentences[0], convert_to_tensor=True)"
   ]
  },
  {
   "cell_type": "code",
   "execution_count": 149,
   "id": "25f852c4-b755-4b3f-9d63-ecd99b98a257",
   "metadata": {},
   "outputs": [
    {
     "data": {
      "text/plain": [
       "tensor([ 3.0196e-02,  7.4146e-03,  9.8276e-02, -4.0475e-02,  7.1639e-02,\n",
       "        -1.1623e-02,  6.4848e-02,  2.0806e-02,  2.2522e-02, -1.1754e-02,\n",
       "         3.9292e-02,  2.2248e-02, -4.9567e-02, -1.1780e-02,  1.5985e-03,\n",
       "         9.0864e-03,  7.9978e-02, -9.6258e-02, -9.2532e-02, -3.3041e-02,\n",
       "        -2.8465e-03, -5.8665e-02, -7.7023e-03, -1.4305e-02,  4.8436e-02,\n",
       "         8.4810e-02, -1.2950e-02, -7.3116e-02, -4.0793e-02,  1.0221e-02,\n",
       "         1.4727e-02,  7.5193e-02,  8.2013e-03, -1.0494e-02, -3.8924e-02,\n",
       "         8.3075e-04,  4.2346e-02,  4.7137e-02, -2.6729e-03, -6.8951e-02,\n",
       "        -2.8809e-02,  1.0034e-02,  7.4744e-02, -5.2072e-02, -4.6988e-03,\n",
       "        -9.5471e-02,  2.5286e-02, -5.5517e-02, -1.2067e-02, -5.1198e-03,\n",
       "        -2.4527e-02, -2.0741e-02,  4.7592e-02,  2.2368e-02, -3.8148e-02,\n",
       "        -8.1716e-03,  2.3532e-02,  5.7829e-02,  4.4954e-02, -2.5786e-02,\n",
       "        -7.9355e-02, -5.9157e-02, -7.4369e-02,  1.3986e-02, -5.1977e-02,\n",
       "         5.1000e-02, -1.6346e-03,  4.8536e-02,  2.0892e-02,  2.7431e-02,\n",
       "        -5.9294e-02,  5.8453e-02, -1.2249e-03,  5.7546e-03,  4.8628e-02,\n",
       "        -6.7221e-02, -4.9202e-03, -3.7310e-02,  1.2018e-01,  5.1010e-02,\n",
       "         8.3969e-02,  1.6250e-03, -1.5116e-02, -1.4292e-02, -1.7015e-02,\n",
       "        -4.2162e-02, -6.7224e-03, -4.4177e-02,  1.0595e-02, -2.9383e-02,\n",
       "         4.0190e-02,  1.8363e-03,  4.6668e-02,  5.6946e-02,  1.2285e-02,\n",
       "        -5.1028e-02, -3.1788e-02, -1.3235e-02,  6.3518e-03, -1.2109e-02,\n",
       "         4.4501e-04,  9.2692e-02,  5.6877e-02,  8.7778e-03, -6.2455e-02,\n",
       "         2.5007e-02, -2.9738e-02,  2.0911e-03,  7.8932e-03,  3.9184e-02,\n",
       "        -5.9427e-02,  6.8686e-03, -6.8734e-02,  1.7347e-03,  2.7041e-02,\n",
       "        -4.7199e-02,  5.0527e-02,  5.3530e-03,  2.1495e-02, -1.3857e-03,\n",
       "         6.2196e-02, -2.1242e-02, -2.0513e-02,  1.5825e-02,  6.6389e-02,\n",
       "        -8.4515e-02, -5.8675e-03,  4.4397e-33,  9.7563e-02,  2.4284e-02,\n",
       "        -1.1748e-02,  8.4273e-02,  5.0755e-02,  6.8952e-02,  2.6990e-02,\n",
       "         6.8587e-02, -4.0350e-03, -9.1612e-03, -3.0662e-02,  8.3511e-03,\n",
       "         4.3662e-02,  4.7434e-02,  1.2578e-01, -4.2012e-03, -3.6134e-02,\n",
       "        -6.9442e-02,  6.5614e-02,  1.9833e-02,  3.1851e-02, -9.7826e-02,\n",
       "        -2.7709e-03, -1.9156e-02,  3.1646e-02, -3.8298e-02, -2.7648e-02,\n",
       "         1.6260e-02,  5.5573e-02, -1.6863e-04, -3.0088e-02,  8.6619e-03,\n",
       "        -8.9328e-02, -5.0321e-02, -1.2410e-02, -4.8821e-03,  6.2351e-02,\n",
       "        -3.6380e-02,  1.0026e-01, -5.5224e-03, -7.6550e-02,  5.1395e-03,\n",
       "        -2.9637e-02, -2.5963e-02,  5.0679e-02,  3.6555e-02,  5.8080e-02,\n",
       "        -4.8694e-02, -1.8305e-02,  6.7515e-02, -8.1434e-02, -8.3104e-03,\n",
       "        -3.7716e-02, -6.6652e-02, -6.9235e-02,  1.0120e-01,  1.5639e-03,\n",
       "        -3.0941e-02,  6.2880e-02, -7.9597e-04,  2.3421e-02, -9.2541e-03,\n",
       "         1.0484e-02,  2.2164e-03,  5.9861e-03,  1.6741e-04,  1.1466e-01,\n",
       "         3.0808e-02, -9.0079e-03, -4.6382e-02, -2.5957e-02, -2.3000e-02,\n",
       "        -6.1445e-02, -6.1406e-02, -1.1482e-03,  5.3449e-02, -5.4554e-02,\n",
       "        -3.0736e-02, -8.7411e-02,  6.1585e-02,  4.3443e-02, -2.9588e-02,\n",
       "         1.5728e-02, -4.6943e-02, -2.7522e-02, -4.2169e-02, -1.3801e-02,\n",
       "        -5.6895e-02,  3.3395e-02,  7.9844e-02, -2.2820e-02, -2.2052e-02,\n",
       "         9.7485e-03,  6.7260e-02, -6.9690e-02, -5.1799e-33, -2.3049e-02,\n",
       "        -6.9544e-02,  2.9299e-02, -1.4655e-02, -8.6249e-03, -3.3692e-02,\n",
       "         5.5789e-02, -9.2258e-03, -6.4826e-03, -1.7799e-02, -1.5093e-02,\n",
       "         4.5915e-02, -5.6855e-02, -4.3285e-02,  3.8317e-02,  1.0984e-02,\n",
       "         3.4861e-03,  1.2674e-02, -9.5703e-02, -5.9267e-02, -1.8572e-02,\n",
       "        -3.4301e-02, -8.4468e-02, -2.0850e-02,  7.9583e-02, -2.1570e-02,\n",
       "        -8.4589e-02, -4.5865e-02,  2.1609e-02,  7.5281e-02, -5.5776e-02,\n",
       "         1.1420e-02,  1.0966e-01,  3.9972e-02,  2.5556e-03,  8.7006e-02,\n",
       "        -4.2452e-02, -4.7878e-02, -1.5973e-02,  9.3415e-03,  4.3062e-02,\n",
       "         7.1616e-02, -1.6152e-02, -1.0816e-02, -5.5970e-03,  3.7290e-02,\n",
       "        -7.8565e-02,  1.0350e-01, -7.5024e-02,  7.7460e-02,  1.5304e-01,\n",
       "         6.9892e-02,  4.1821e-02, -2.6867e-02,  3.4664e-02,  5.4944e-03,\n",
       "         2.8636e-02, -7.2481e-02,  1.3255e-03,  2.3376e-02, -2.0933e-02,\n",
       "        -1.1950e-01, -7.6756e-02, -2.8059e-02, -3.1765e-02, -6.8302e-02,\n",
       "        -4.7034e-02,  5.5198e-02,  4.0784e-02,  4.8976e-02, -2.3679e-03,\n",
       "         6.8516e-02, -4.7479e-02, -9.8840e-02, -1.7190e-02,  3.8599e-02,\n",
       "         5.6715e-02,  9.5128e-03, -8.5121e-02,  3.5014e-02,  1.4448e-03,\n",
       "         6.3491e-02,  7.0693e-02, -1.4836e-01, -2.7707e-02, -1.4243e-03,\n",
       "        -5.0789e-02, -3.9622e-02, -5.7968e-02, -3.7653e-02, -9.3473e-02,\n",
       "        -4.5034e-02, -9.7486e-02,  1.7608e-02,  2.5320e-02, -5.3759e-08,\n",
       "        -5.4514e-03, -6.4805e-02,  9.7868e-02,  4.1248e-02,  6.5964e-04,\n",
       "         6.1544e-04,  1.0628e-01,  1.4644e-02,  1.2120e-02,  1.9037e-02,\n",
       "        -2.4640e-02, -2.1128e-02, -2.6034e-02,  1.2899e-02,  9.3995e-02,\n",
       "        -3.2416e-02,  8.9185e-02, -5.3581e-02, -2.0936e-02,  2.4407e-02,\n",
       "         1.4369e-01,  2.4897e-02, -5.8829e-02,  3.1971e-02,  2.3159e-02,\n",
       "        -2.7776e-02,  4.8590e-03,  5.0945e-02, -5.6596e-02,  8.1864e-02,\n",
       "        -6.0755e-02, -5.8848e-02, -2.3242e-02, -5.4268e-02, -1.3754e-02,\n",
       "        -1.0318e-01,  1.5473e-02, -5.4647e-02,  6.1986e-03,  8.9557e-02,\n",
       "         3.1363e-03, -5.2055e-02,  6.5463e-02,  1.9464e-02,  1.4800e-02,\n",
       "        -3.7127e-02, -6.7228e-02, -7.9728e-02,  1.7992e-02,  6.2415e-02,\n",
       "        -4.3742e-02, -2.7793e-02,  8.2866e-02, -6.1898e-02,  8.5779e-02,\n",
       "        -2.4285e-02,  3.2546e-02,  4.0499e-02, -6.4958e-02,  8.1801e-02,\n",
       "         3.8266e-02,  5.4218e-02, -1.5473e-01,  5.4601e-02])"
      ]
     },
     "execution_count": 149,
     "metadata": {},
     "output_type": "execute_result"
    }
   ],
   "source": [
    "embedding_1 "
   ]
  },
  {
   "cell_type": "code",
   "execution_count": 76,
   "id": "fbf83209-b086-4c17-8754-b5ede6d4bafc",
   "metadata": {},
   "outputs": [
    {
     "data": {
      "text/plain": [
       "{0: 0}"
      ]
     },
     "execution_count": 76,
     "metadata": {},
     "output_type": "execute_result"
    }
   ],
   "source": [
    "meas_dict = {}\n",
    "essayCheckNo=0\n",
    "meas_dict[essayCheckNo]=0\n",
    "meas_dict"
   ]
  },
  {
   "cell_type": "code",
   "execution_count": 84,
   "id": "2d660f25-a97d-4cf6-8212-e8757a415bb4",
   "metadata": {},
   "outputs": [
    {
     "name": "stdout",
     "output_type": "stream",
     "text": [
      "411.72389912605286\n"
     ]
    }
   ],
   "source": [
    "start_time = time.time()\n",
    "for key in df_dict['essay']:\n",
    "    if key != 0:\n",
    "        embedding_2 = model.encode(df_dict['essay'][key], convert_to_tensor=True)\n",
    "        meas = util.pytorch_cos_sim(embedding_1, embedding_2)\n",
    "        meas_dict[key]=meas.item()\n",
    "\n",
    "end_time = time.time()\n",
    "elapsed_time =(end_time-start_time)\n",
    "print(elapsed_time)"
   ]
  },
  {
   "cell_type": "code",
   "execution_count": 145,
   "id": "64d9d23d-eec3-4057-a02d-4a326918b0f1",
   "metadata": {},
   "outputs": [
    {
     "data": {
      "text/plain": [
       "6.85"
      ]
     },
     "execution_count": 145,
     "metadata": {},
     "output_type": "execute_result"
    }
   ],
   "source": [
    "411/60"
   ]
  },
  {
   "cell_type": "code",
   "execution_count": 90,
   "id": "dfee86e4-79c4-4345-bd15-19af96ae006b",
   "metadata": {},
   "outputs": [
    {
     "data": {
      "text/plain": [
       "0.3672412844136512"
      ]
     },
     "execution_count": 90,
     "metadata": {},
     "output_type": "execute_result"
    }
   ],
   "source": [
    "(elapsed_time*(1000/12976)/60/60)*1000/24"
   ]
  },
  {
   "cell_type": "code",
   "execution_count": 96,
   "id": "29bc0250-ca9d-4356-9706-37f37d3299a8",
   "metadata": {},
   "outputs": [],
   "source": [
    "meas_df = pd.DataFrame.from_dict(meas_dict, orient='index')"
   ]
  },
  {
   "cell_type": "code",
   "execution_count": 97,
   "id": "7f3fba50-8066-4309-8bab-849ea8292e5d",
   "metadata": {},
   "outputs": [
    {
     "data": {
      "text/plain": [
       "<bound method NDFrame.head of               0\n",
       "0      0.000000\n",
       "1      0.663650\n",
       "2      0.606666\n",
       "3      0.565070\n",
       "4      0.610151\n",
       "...         ...\n",
       "12971  0.162224\n",
       "12972  0.079628\n",
       "12973  0.088495\n",
       "12974  0.073543\n",
       "12975  0.162307\n",
       "\n",
       "[12976 rows x 1 columns]>"
      ]
     },
     "execution_count": 97,
     "metadata": {},
     "output_type": "execute_result"
    }
   ],
   "source": [
    "meas_df.head"
   ]
  },
  {
   "cell_type": "code",
   "execution_count": 117,
   "id": "3d32e6df-cad8-4c78-867b-3be1278b2e6d",
   "metadata": {},
   "outputs": [],
   "source": [
    "min_idx = meas_df[1:].abs().idxmin()"
   ]
  },
  {
   "cell_type": "code",
   "execution_count": 142,
   "id": "622571ab-c94e-4ad5-a338-548cfdfe41f0",
   "metadata": {},
   "outputs": [
    {
     "data": {
      "text/plain": [
       "\"Dear local newspaper, I think effects computers have on people are great learning skills/affects because they give us time to chat with friends/new people, helps us learn about the globe(astronomy) and keeps us out of troble! Thing about! Dont you think so? How would you feel if your teenager is always on the phone with friends! Do you ever time to chat with your friends or buisness partner about things. Well now - there's a new way to chat the computer, theirs plenty of sites on the internet to do so: facebook, myspace ect. Just think now while your setting up meeting with your boss on the computer, your teenager is having fun on the phone not rushing to get off cause you want to use it. How did you learn about other countrys/states outside of yours? Well I have by computer/internet, it's a new way to learn about what going on in our time! You might think your child spends a lot of time on the computer, but ask them so question about the economy, sea floor spreading or even about the you'll be surprise at how much he/she knows. Believe it or not the computer is much interesting then in class all day reading out of books. If your child is home on your computer or at a local library, it's better than being out with friends being fresh, or being perpressured to doing something they know isnt right. You might not know where your child is, forbidde in a hospital bed because of a drive-by. Rather than your child on the computer learning, chatting or just playing games, safe and sound in your home or community place. Now I hope you have reached a point to understand and agree with me, because computers can have great effects on you or child because it gives us time to chat with friends/new people, helps us learn about the globe and believe or not keeps us out of troble. Thank you for listening.\""
      ]
     },
     "execution_count": 142,
     "metadata": {},
     "output_type": "execute_result"
    }
   ],
   "source": [
    "df1['essay'][0]"
   ]
  },
  {
   "cell_type": "code",
   "execution_count": 138,
   "id": "9ef43172-a3d6-4fea-aedf-ea0acb407b33",
   "metadata": {},
   "outputs": [
    {
     "data": {
      "text/plain": [
       "6383    The author concludes the story with this becau...\n",
       "Name: essay, dtype: object"
      ]
     },
     "execution_count": 138,
     "metadata": {},
     "output_type": "execute_result"
    }
   ],
   "source": [
    "df1['essay'][min_idx]"
   ]
  },
  {
   "cell_type": "code",
   "execution_count": 151,
   "id": "a56e9f9c-feb7-44ac-b3da-9b09da1b9598",
   "metadata": {},
   "outputs": [
    {
     "data": {
      "text/plain": [
       "\"Dear Newspaper, Computers have a huge effect on society, can you even imagine where we would be without them? They are great for communication, learning, and shopping. Computers have a large effect on people. Without computers, communication with co-workers, family, and friends would be nearly impossible. Social networking sites, such as and play a huge wrolein everyday life. These are the sites you use to access information from others to making plans for the weekend. Do you think that your children use the intrenet too much? Nowadays, that is their way to communicate with their peer. It makes them more social, which is a great quality to have in life. Also, I don'd know about you, but I have talked to many people around the world using the internet. It gives you the chance to experince other cultures. Communication was absolutely not as easy before having computers. It seem hard to believe, but you can learn tremendous amounts things from the internet. This include learning about people. How would you video chat with someone without or You can learn a lot about a person from talking to the face to face, a thing that can't be done on a phone. Also, research for school could not be done without the internet. In a recent survey, out teenagers said that they use a search engine site, such as or at least once a day, out those said that it is for school. If it weren't for these search engines, children wouldn't be doing too great in school. Clearly, the computer provides ample ways to research and learn on a daily basis. It sound rediculous, but in shopping was done on the internet. If someone wants to start a business, their first stop is usually the internet. People are making every year with the help computers. People find it easiest to buy something with the click a mouse. It is easier than the hassle crowded malls and long lines. Also, do you remember when was the time to put the alarm clock on for Well, how people do shopping online, there are hundreds, even thousands sites that offer great sales. Now think about how purchasing items would be if it weren't for the internet. It's not agreat image, is it? As you can tell, computers have affected our lives in a great way. Communication, learning, and even shopping have become much simpler. Many think that computers are not bad to have, but the good over shadows those aspects.\""
      ]
     },
     "execution_count": 151,
     "metadata": {},
     "output_type": "execute_result"
    }
   ],
   "source": [
    "df1['essay'][meas_df[1:].abs().idxmax()].item()"
   ]
  },
  {
   "cell_type": "code",
   "execution_count": 131,
   "id": "5c6680e1-6b33-4389-bdf0-c19dd85ec9b0",
   "metadata": {},
   "outputs": [
    {
     "data": {
      "text/plain": [
       "0    6383\n",
       "dtype: int64"
      ]
     },
     "execution_count": 131,
     "metadata": {},
     "output_type": "execute_result"
    }
   ],
   "source": [
    "min_idx"
   ]
  },
  {
   "cell_type": "code",
   "execution_count": 158,
   "id": "06211323-727f-4ab9-9175-b7517c643ba8",
   "metadata": {},
   "outputs": [
    {
     "name": "stdout",
     "output_type": "stream",
     "text": [
      "Cosine Similarity:  0    0.000042\n",
      "dtype: float64\n"
     ]
    },
    {
     "data": {
      "text/plain": [
       "'The author concludes the story with this because the hibiscus and Saeng are very similar. Also the narrator compares her to the geese returning. The geese returning represents her starting over at drivers school and doing it again. The hibiscus represents her staying strong in the winter and the come spring she builds up and goes and takes the test again. That is what the narrator choose to end the story that way.'"
      ]
     },
     "execution_count": 158,
     "metadata": {},
     "output_type": "execute_result"
    }
   ],
   "source": [
    "print(\"Cosine Similarity: \",meas_df[1:].abs().min())\n",
    "df1['essay'][min_idx].item()"
   ]
  },
  {
   "cell_type": "code",
   "execution_count": 148,
   "id": "aa948eea-6a2b-43bb-9202-1baeabdcf4ad",
   "metadata": {},
   "outputs": [
    {
     "data": {
      "text/plain": [
       "\"Dear local newspaper, I think effects computers have on people are great learning skills/affects because they give us time to chat with friends/new people, helps us learn about the globe(astronomy) and keeps us out of troble! Thing about! Dont you think so? How would you feel if your teenager is always on the phone with friends! Do you ever time to chat with your friends or buisness partner about things. Well now - there's a new way to chat the computer, theirs plenty of sites on the internet to do so: facebook, myspace ect. Just think now while your setting up meeting with your boss on the computer, your teenager is having fun on the phone not rushing to get off cause you want to use it. How did you learn about other countrys/states outside of yours? Well I have by computer/internet, it's a new way to learn about what going on in our time! You might think your child spends a lot of time on the computer, but ask them so question about the economy, sea floor spreading or even about the you'll be surprise at how much he/she knows. Believe it or not the computer is much interesting then in class all day reading out of books. If your child is home on your computer or at a local library, it's better than being out with friends being fresh, or being perpressured to doing something they know isnt right. You might not know where your child is, forbidde in a hospital bed because of a drive-by. Rather than your child on the computer learning, chatting or just playing games, safe and sound in your home or community place. Now I hope you have reached a point to understand and agree with me, because computers can have great effects on you or child because it gives us time to chat with friends/new people, helps us learn about the globe and believe or not keeps us out of troble. Thank you for listening.\""
      ]
     },
     "execution_count": 148,
     "metadata": {},
     "output_type": "execute_result"
    }
   ],
   "source": [
    "df1['essay'][0]"
   ]
  },
  {
   "cell_type": "code",
   "execution_count": 159,
   "id": "22e96ab5-2691-4a0d-bb2f-347cd16fe154",
   "metadata": {},
   "outputs": [
    {
     "name": "stdout",
     "output_type": "stream",
     "text": [
      "Cosine Similarity:  0    0.766856\n",
      "dtype: float64\n"
     ]
    },
    {
     "data": {
      "text/plain": [
       "\"Dear Newspaper, Computers have a huge effect on society, can you even imagine where we would be without them? They are great for communication, learning, and shopping. Computers have a large effect on people. Without computers, communication with co-workers, family, and friends would be nearly impossible. Social networking sites, such as and play a huge wrolein everyday life. These are the sites you use to access information from others to making plans for the weekend. Do you think that your children use the intrenet too much? Nowadays, that is their way to communicate with their peer. It makes them more social, which is a great quality to have in life. Also, I don'd know about you, but I have talked to many people around the world using the internet. It gives you the chance to experince other cultures. Communication was absolutely not as easy before having computers. It seem hard to believe, but you can learn tremendous amounts things from the internet. This include learning about people. How would you video chat with someone without or You can learn a lot about a person from talking to the face to face, a thing that can't be done on a phone. Also, research for school could not be done without the internet. In a recent survey, out teenagers said that they use a search engine site, such as or at least once a day, out those said that it is for school. If it weren't for these search engines, children wouldn't be doing too great in school. Clearly, the computer provides ample ways to research and learn on a daily basis. It sound rediculous, but in shopping was done on the internet. If someone wants to start a business, their first stop is usually the internet. People are making every year with the help computers. People find it easiest to buy something with the click a mouse. It is easier than the hassle crowded malls and long lines. Also, do you remember when was the time to put the alarm clock on for Well, how people do shopping online, there are hundreds, even thousands sites that offer great sales. Now think about how purchasing items would be if it weren't for the internet. It's not agreat image, is it? As you can tell, computers have affected our lives in a great way. Communication, learning, and even shopping have become much simpler. Many think that computers are not bad to have, but the good over shadows those aspects.\""
      ]
     },
     "execution_count": 159,
     "metadata": {},
     "output_type": "execute_result"
    }
   ],
   "source": [
    "print(\"Cosine Similarity: \",meas_df[1:].abs().max())\n",
    "df1['essay'][meas_df[1:].abs().idxmax()].item()"
   ]
  },
  {
   "cell_type": "code",
   "execution_count": 167,
   "id": "d3735694-3412-4136-9d38-962c28b5d99f",
   "metadata": {},
   "outputs": [
    {
     "data": {
      "text/plain": [
       "14      [0]\n",
       "33      [0]\n",
       "37      [0]\n",
       "55      [0]\n",
       "82      [0]\n",
       "       ... \n",
       "1719    [0]\n",
       "1745    [0]\n",
       "1766    [0]\n",
       "1771    [0]\n",
       "1777    [0]\n",
       "Length: 111, dtype: object"
      ]
     },
     "execution_count": 167,
     "metadata": {},
     "output_type": "execute_result"
    }
   ],
   "source": [
    "# get the top whatever number of essays\n",
    "\n",
    "threshold = 0.69\n",
    "\n",
    "top_meas_df = meas_df[1:].where(meas_df.gt(threshold)).stack().groupby(level=0).apply(lambda x: x.nlargest(2).index.get_level_values(1).to_list())\n",
    "top_meas_df"
   ]
  },
  {
   "cell_type": "code",
   "execution_count": 180,
   "id": "b578fc82-eaa9-44e0-a74b-789ca9572ebc",
   "metadata": {},
   "outputs": [
    {
     "data": {
      "text/plain": [
       "0        False\n",
       "1        False\n",
       "2        False\n",
       "3        False\n",
       "4        False\n",
       "         ...  \n",
       "12971    False\n",
       "12972    False\n",
       "12973    False\n",
       "12974    False\n",
       "12975    False\n",
       "Name: essay, Length: 12976, dtype: bool"
      ]
     },
     "execution_count": 180,
     "metadata": {},
     "output_type": "execute_result"
    }
   ],
   "source": [
    "df1['essay'].str.count(' ') < 256"
   ]
  },
  {
   "cell_type": "code",
   "execution_count": null,
   "id": "5be47b47-f7d1-4e57-baeb-a769fd35d801",
   "metadata": {},
   "outputs": [],
   "source": []
  }
 ],
 "metadata": {
  "kernelspec": {
   "display_name": "Python 3 (ipykernel)",
   "language": "python",
   "name": "python3"
  },
  "language_info": {
   "codemirror_mode": {
    "name": "ipython",
    "version": 3
   },
   "file_extension": ".py",
   "mimetype": "text/x-python",
   "name": "python",
   "nbconvert_exporter": "python",
   "pygments_lexer": "ipython3",
   "version": "3.10.5"
  }
 },
 "nbformat": 4,
 "nbformat_minor": 5
}
