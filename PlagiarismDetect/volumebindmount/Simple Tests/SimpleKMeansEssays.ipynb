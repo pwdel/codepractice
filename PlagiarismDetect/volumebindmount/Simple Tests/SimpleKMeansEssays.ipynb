{
 "cells": [
  {
   "cell_type": "code",
   "execution_count": 1,
   "id": "c57969b4-965b-40d7-8e6f-303fb58fab55",
   "metadata": {},
   "outputs": [
    {
     "data": {
      "text/plain": [
       "<Figure size 1200x1200 with 0 Axes>"
      ]
     },
     "metadata": {},
     "output_type": "display_data"
    }
   ],
   "source": [
    "import numpy as np\n",
    "import matplotlib.pyplot as plt\n",
    "\n",
    "from sklearn.cluster import KMeans\n",
    "from sklearn.datasets import make_blobs\n",
    "\n",
    "plt.figure(figsize=(12, 12))\n",
    "\n",
    "n_samples = 1500\n",
    "random_state = 170\n",
    "X, y = make_blobs(n_samples=n_samples, random_state=random_state)\n",
    "\n",
    "# Incorrect number of clusters\n",
    "y_pred = KMeans(n_clusters=2, random_state=random_state).fit_predict(X)"
   ]
  },
  {
   "cell_type": "code",
   "execution_count": 14,
   "id": "f6b09bee-1f8a-42a2-bdb1-dbf37018e6f6",
   "metadata": {},
   "outputs": [
    {
     "name": "stdout",
     "output_type": "stream",
     "text": [
      "The type of X is:  <class 'numpy.ndarray'>\n",
      "The shape of X is:  (1500, 2)\n"
     ]
    }
   ],
   "source": [
    "print(\"The type of X is: \",type(X))\n",
    "print(\"The shape of X is: \",X.shape)"
   ]
  },
  {
   "cell_type": "code",
   "execution_count": 15,
   "id": "87820416-ae5f-4957-a0db-1307504ae19d",
   "metadata": {},
   "outputs": [
    {
     "name": "stdout",
     "output_type": "stream",
     "text": [
      "The type of X is:  <class 'numpy.ndarray'>\n",
      "The shape of X is:  (1500,)\n"
     ]
    }
   ],
   "source": [
    "print(\"The type of X is: \",type(y))\n",
    "print(\"The shape of X is: \",y.shape)"
   ]
  },
  {
   "cell_type": "code",
   "execution_count": null,
   "id": "8ac6bade-5b4e-410d-b1d3-94ffee6b0f5f",
   "metadata": {},
   "outputs": [],
   "source": []
  }
 ],
 "metadata": {
  "kernelspec": {
   "display_name": "Python 3 (ipykernel)",
   "language": "python",
   "name": "python3"
  },
  "language_info": {
   "codemirror_mode": {
    "name": "ipython",
    "version": 3
   },
   "file_extension": ".py",
   "mimetype": "text/x-python",
   "name": "python",
   "nbconvert_exporter": "python",
   "pygments_lexer": "ipython3",
   "version": "3.10.5"
  }
 },
 "nbformat": 4,
 "nbformat_minor": 5
}
