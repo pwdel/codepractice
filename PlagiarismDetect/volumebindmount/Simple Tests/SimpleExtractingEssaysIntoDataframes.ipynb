{
 "cells": [
  {
   "cell_type": "markdown",
   "id": "0105fb52-d04e-499f-9c87-4ac2d1d1eb62",
   "metadata": {},
   "source": [
    "## Extracting Essays into Dataframes\n",
    "\n",
    "* We note that the, \"essay\" column of processed_data.csv appears to have been cleaned of irregularities, but not normalized."
   ]
  },
  {
   "cell_type": "code",
   "execution_count": 8,
   "id": "af64b2c7-1777-40cf-ac0e-799385ffe45d",
   "metadata": {},
   "outputs": [
    {
     "data": {
      "text/plain": [
       "(12976, 15)"
      ]
     },
     "execution_count": 8,
     "metadata": {},
     "output_type": "execute_result"
    }
   ],
   "source": [
    "import pandas as pd\n",
    "df = pd.read_csv('./AES/processed_data.csv', encoding = 'ISO-8859-1')\n",
    "df.shape"
   ]
  },
  {
   "cell_type": "code",
   "execution_count": 39,
   "id": "a9e6ad70-7bdd-40c7-b483-47ada4152eea",
   "metadata": {},
   "outputs": [
    {
     "data": {
      "text/html": [
       "<div>\n",
       "<style scoped>\n",
       "    .dataframe tbody tr th:only-of-type {\n",
       "        vertical-align: middle;\n",
       "    }\n",
       "\n",
       "    .dataframe tbody tr th {\n",
       "        vertical-align: top;\n",
       "    }\n",
       "\n",
       "    .dataframe thead th {\n",
       "        text-align: right;\n",
       "    }\n",
       "</style>\n",
       "<table border=\"1\" class=\"dataframe\">\n",
       "  <thead>\n",
       "    <tr style=\"text-align: right;\">\n",
       "      <th></th>\n",
       "      <th>Unnamed: 0</th>\n",
       "      <th>essay_id</th>\n",
       "      <th>essay_set</th>\n",
       "      <th>essay</th>\n",
       "      <th>final_score</th>\n",
       "      <th>clean_essay</th>\n",
       "      <th>char_count</th>\n",
       "      <th>word_count</th>\n",
       "      <th>sent_count</th>\n",
       "      <th>avg_word_len</th>\n",
       "      <th>spell_err_count</th>\n",
       "      <th>noun_count</th>\n",
       "      <th>adj_count</th>\n",
       "      <th>verb_count</th>\n",
       "      <th>adv_count</th>\n",
       "    </tr>\n",
       "  </thead>\n",
       "  <tbody>\n",
       "    <tr>\n",
       "      <th>0</th>\n",
       "      <td>0</td>\n",
       "      <td>1</td>\n",
       "      <td>1</td>\n",
       "      <td>Dear local newspaper, I think effects computer...</td>\n",
       "      <td>6</td>\n",
       "      <td>Dear local newspaper  I think effects computer...</td>\n",
       "      <td>1441</td>\n",
       "      <td>344</td>\n",
       "      <td>16</td>\n",
       "      <td>4.188953</td>\n",
       "      <td>11</td>\n",
       "      <td>76</td>\n",
       "      <td>75</td>\n",
       "      <td>18</td>\n",
       "      <td>24</td>\n",
       "    </tr>\n",
       "    <tr>\n",
       "      <th>1</th>\n",
       "      <td>1</td>\n",
       "      <td>2</td>\n",
       "      <td>1</td>\n",
       "      <td>Dear I believe that using computers will benef...</td>\n",
       "      <td>7</td>\n",
       "      <td>Dear I believe using computers benefit us many...</td>\n",
       "      <td>1765</td>\n",
       "      <td>413</td>\n",
       "      <td>17</td>\n",
       "      <td>4.273608</td>\n",
       "      <td>21</td>\n",
       "      <td>98</td>\n",
       "      <td>84</td>\n",
       "      <td>20</td>\n",
       "      <td>19</td>\n",
       "    </tr>\n",
       "    <tr>\n",
       "      <th>2</th>\n",
       "      <td>2</td>\n",
       "      <td>3</td>\n",
       "      <td>1</td>\n",
       "      <td>Dear, More and more people use computers, but ...</td>\n",
       "      <td>5</td>\n",
       "      <td>Dear  More people use computers  everyone agre...</td>\n",
       "      <td>1185</td>\n",
       "      <td>276</td>\n",
       "      <td>14</td>\n",
       "      <td>4.293478</td>\n",
       "      <td>5</td>\n",
       "      <td>76</td>\n",
       "      <td>51</td>\n",
       "      <td>20</td>\n",
       "      <td>16</td>\n",
       "    </tr>\n",
       "    <tr>\n",
       "      <th>3</th>\n",
       "      <td>3</td>\n",
       "      <td>4</td>\n",
       "      <td>1</td>\n",
       "      <td>Dear Local Newspaper, I have found that many e...</td>\n",
       "      <td>8</td>\n",
       "      <td>Dear Local Newspaper  I found many experts say...</td>\n",
       "      <td>2284</td>\n",
       "      <td>490</td>\n",
       "      <td>26</td>\n",
       "      <td>4.661224</td>\n",
       "      <td>31</td>\n",
       "      <td>142</td>\n",
       "      <td>96</td>\n",
       "      <td>39</td>\n",
       "      <td>29</td>\n",
       "    </tr>\n",
       "    <tr>\n",
       "      <th>4</th>\n",
       "      <td>4</td>\n",
       "      <td>5</td>\n",
       "      <td>1</td>\n",
       "      <td>Dear I know having computers has a positive ef...</td>\n",
       "      <td>6</td>\n",
       "      <td>Dear I know computers positive effect people  ...</td>\n",
       "      <td>2023</td>\n",
       "      <td>469</td>\n",
       "      <td>30</td>\n",
       "      <td>4.313433</td>\n",
       "      <td>18</td>\n",
       "      <td>110</td>\n",
       "      <td>90</td>\n",
       "      <td>32</td>\n",
       "      <td>36</td>\n",
       "    </tr>\n",
       "  </tbody>\n",
       "</table>\n",
       "</div>"
      ],
      "text/plain": [
       "   Unnamed: 0  essay_id  essay_set  \\\n",
       "0           0         1          1   \n",
       "1           1         2          1   \n",
       "2           2         3          1   \n",
       "3           3         4          1   \n",
       "4           4         5          1   \n",
       "\n",
       "                                               essay  final_score  \\\n",
       "0  Dear local newspaper, I think effects computer...            6   \n",
       "1  Dear I believe that using computers will benef...            7   \n",
       "2  Dear, More and more people use computers, but ...            5   \n",
       "3  Dear Local Newspaper, I have found that many e...            8   \n",
       "4  Dear I know having computers has a positive ef...            6   \n",
       "\n",
       "                                         clean_essay  char_count  word_count  \\\n",
       "0  Dear local newspaper  I think effects computer...        1441         344   \n",
       "1  Dear I believe using computers benefit us many...        1765         413   \n",
       "2  Dear  More people use computers  everyone agre...        1185         276   \n",
       "3  Dear Local Newspaper  I found many experts say...        2284         490   \n",
       "4  Dear I know computers positive effect people  ...        2023         469   \n",
       "\n",
       "   sent_count  avg_word_len  spell_err_count  noun_count  adj_count  \\\n",
       "0          16      4.188953               11          76         75   \n",
       "1          17      4.273608               21          98         84   \n",
       "2          14      4.293478                5          76         51   \n",
       "3          26      4.661224               31         142         96   \n",
       "4          30      4.313433               18         110         90   \n",
       "\n",
       "   verb_count  adv_count  \n",
       "0          18         24  \n",
       "1          20         19  \n",
       "2          20         16  \n",
       "3          39         29  \n",
       "4          32         36  "
      ]
     },
     "execution_count": 39,
     "metadata": {},
     "output_type": "execute_result"
    }
   ],
   "source": [
    "df.head()"
   ]
  },
  {
   "cell_type": "code",
   "execution_count": 23,
   "id": "feb5c436-068f-4f26-8027-0c29dd67d31b",
   "metadata": {},
   "outputs": [
    {
     "data": {
      "text/plain": [
       "0    Dear local newspaper, I think effects computer...\n",
       "1    Dear I believe that using computers will benef...\n",
       "2    Dear, More and more people use computers, but ...\n",
       "3    Dear Local Newspaper, I have found that many e...\n",
       "4    Dear I know having computers has a positive ef...\n",
       "Name: essay, dtype: object"
      ]
     },
     "execution_count": 23,
     "metadata": {},
     "output_type": "execute_result"
    }
   ],
   "source": [
    "df[\"essay\"].head()"
   ]
  },
  {
   "cell_type": "code",
   "execution_count": 40,
   "id": "01de7156-8f68-4ffa-9aed-25bcd92ec630",
   "metadata": {},
   "outputs": [
    {
     "data": {
      "text/plain": [
       "5"
      ]
     },
     "execution_count": 40,
     "metadata": {},
     "output_type": "execute_result"
    }
   ],
   "source": [
    "df[\"essay\"].size"
   ]
  },
  {
   "cell_type": "code",
   "execution_count": 44,
   "id": "f901c799-78fb-4f4c-8db0-65b37d554ec4",
   "metadata": {},
   "outputs": [
    {
     "name": "stdout",
     "output_type": "stream",
     "text": [
      "<class 'str'>\n",
      "tensor([[0.6636]])\n"
     ]
    }
   ],
   "source": [
    "essayStr0 = df[\"essay\"][0]\n",
    "essayStr1 = df[\"essay\"][1]\n",
    "\n",
    "from sentence_transformers import SentenceTransformer, util\n",
    "sentences = [essayStr0, essayStr1]\n",
    "print(type(essayStr0))\n",
    "\n",
    "model = SentenceTransformer('sentence-transformers/all-MiniLM-L6-v2')\n",
    "\n",
    "#Compute embedding for both lists\n",
    "embedding_1= model.encode(sentences[0], convert_to_tensor=True)\n",
    "embedding_2 = model.encode(sentences[1], convert_to_tensor=True)\n",
    "\n",
    "meas_00_01 = util.pytorch_cos_sim(embedding_1, embedding_2)\n",
    "print(meas_00_01)"
   ]
  },
  {
   "cell_type": "code",
   "execution_count": 35,
   "id": "6fa05024-f20a-43ab-be7f-d3b9780c7366",
   "metadata": {},
   "outputs": [
    {
     "name": "stdout",
     "output_type": "stream",
     "text": [
      "The type of the measurement is:  <class 'torch.Tensor'>\n",
      "The value of the torch.Tensor is:  0.6636499166488647\n",
      "The type of the torch.Tensor value is:  <class 'float'>\n"
     ]
    }
   ],
   "source": [
    "print(\"The type of the measurement is: \",type(meas_00_01))\n",
    "print(\"The value of the torch.Tensor is: \", meas_00_01.item())\n",
    "print(\"The type of the torch.Tensor value is: \",type(meas_00_01.item()))"
   ]
  },
  {
   "cell_type": "code",
   "execution_count": null,
   "id": "4ae3adea-8d0b-4664-a629-133d447cee88",
   "metadata": {},
   "outputs": [],
   "source": []
  }
 ],
 "metadata": {
  "kernelspec": {
   "display_name": "Python 3 (ipykernel)",
   "language": "python",
   "name": "python3"
  },
  "language_info": {
   "codemirror_mode": {
    "name": "ipython",
    "version": 3
   },
   "file_extension": ".py",
   "mimetype": "text/x-python",
   "name": "python",
   "nbconvert_exporter": "python",
   "pygments_lexer": "ipython3",
   "version": "3.10.5"
  }
 },
 "nbformat": 4,
 "nbformat_minor": 5
}
