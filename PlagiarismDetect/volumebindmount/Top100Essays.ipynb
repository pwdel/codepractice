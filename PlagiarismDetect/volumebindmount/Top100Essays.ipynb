{
 "cells": [
  {
   "cell_type": "code",
   "execution_count": null,
   "id": "397959c5-3c64-45fd-8869-5553c064ed86",
   "metadata": {},
   "outputs": [],
   "source": [
    "import pandas as pd\n",
    "df = pd.read_csv('./AES/processed_data.csv', encoding = 'ISO-8859-1')\n",
    "\n",
    "df1 = df[['essay']]\n",
    "\n",
    "df_dict = df1.to_dict('dict')\n",
    "\n",
    "for key in df_dict['essay']:\n",
    "    if key != 0:\n",
    "        embedding_2 = model.encode(df_dict['essay'][key], convert_to_tensor=True)\n",
    "        meas = util.pytorch_cos_sim(embedding_1, embedding_2)\n",
    "        meas_dict[key]=meas.item()"
   ]
  }
 ],
 "metadata": {
  "kernelspec": {
   "display_name": "Python 3 (ipykernel)",
   "language": "python",
   "name": "python3"
  },
  "language_info": {
   "codemirror_mode": {
    "name": "ipython",
    "version": 3
   },
   "file_extension": ".py",
   "mimetype": "text/x-python",
   "name": "python",
   "nbconvert_exporter": "python",
   "pygments_lexer": "ipython3",
   "version": "3.10.5"
  }
 },
 "nbformat": 4,
 "nbformat_minor": 5
}
