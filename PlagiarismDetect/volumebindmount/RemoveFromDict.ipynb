{
 "cells": [
  {
   "cell_type": "code",
   "execution_count": 1,
   "id": "c815b25a-b085-47f9-bcd3-3a0812a408ac",
   "metadata": {},
   "outputs": [],
   "source": [
    "import pandas as pd\n",
    "df = pd.read_csv('./AES/processed_data.csv', encoding = 'ISO-8859-1')\n",
    "\n",
    "df1 = df[['essay']]\n",
    "\n",
    "df_dict = df1.to_dict('dict')"
   ]
  },
  {
   "cell_type": "code",
   "execution_count": 20,
   "id": "d77a0e47-636b-4eee-8e33-8a11adca0298",
   "metadata": {},
   "outputs": [],
   "source": [
    "import json\n",
    "json_normalized_dict = json.dumps(df_dict)\n",
    "normalized_dict = json.loads(json_normalized_dict)"
   ]
  },
  {
   "cell_type": "code",
   "execution_count": 24,
   "id": "dc9bc744-3d89-4a1c-8187-f12d3a9aec0e",
   "metadata": {},
   "outputs": [
    {
     "data": {
      "text/plain": [
       "\"Dear local newspaper, I think effects computers have on people are great learning skills/affects because they give us time to chat with friends/new people, helps us learn about the globe(astronomy) and keeps us out of troble! Thing about! Dont you think so? How would you feel if your teenager is always on the phone with friends! Do you ever time to chat with your friends or buisness partner about things. Well now - there's a new way to chat the computer, theirs plenty of sites on the internet to do so: facebook, myspace ect. Just think now while your setting up meeting with your boss on the computer, your teenager is having fun on the phone not rushing to get off cause you want to use it. How did you learn about other countrys/states outside of yours? Well I have by computer/internet, it's a new way to learn about what going on in our time! You might think your child spends a lot of time on the computer, but ask them so question about the economy, sea floor spreading or even about the you'll be surprise at how much he/she knows. Believe it or not the computer is much interesting then in class all day reading out of books. If your child is home on your computer or at a local library, it's better than being out with friends being fresh, or being perpressured to doing something they know isnt right. You might not know where your child is, forbidde in a hospital bed because of a drive-by. Rather than your child on the computer learning, chatting or just playing games, safe and sound in your home or community place. Now I hope you have reached a point to understand and agree with me, because computers can have great effects on you or child because it gives us time to chat with friends/new people, helps us learn about the globe and believe or not keeps us out of troble. Thank you for listening.\""
      ]
     },
     "execution_count": 24,
     "metadata": {},
     "output_type": "execute_result"
    }
   ],
   "source": [
    "normalized_dict['essay']['0']"
   ]
  },
  {
   "cell_type": "code",
   "execution_count": 26,
   "id": "523c5c35-79e5-46de-a95d-65daead64644",
   "metadata": {},
   "outputs": [
    {
     "data": {
      "text/plain": [
       "'Dear Local Newspaper, I have found that many experts say that computers do not benifit our society. In some cases this is true but in most cases studdies show that computers can help people. While nothing beats talking in person computers can get really close such examples are webcams or e-mail. of students who get good grades refer to reliable websites for reasearch or to help find good books. Also online catalouges or advertisments help the economy of stores worldwide. people were not allowed to use computers most of the modern would not exist. said that the best form of modern communication is the computer because of the ability to write, talk, or write back for much cheaper! Almost every single event i go to is planed on a computer by communication such as e-mail \"@CAPS2 a student ever needs homework because lam out sick or needs help studying for a test then contact their teacher through the best form of communication for them always e-mail. Even the post office uses computers to get letters and boxes to people. The president of the post office, said \"@CAPS3 would be imposible to get mail to our coustmers were not for computers telling us where a zip code is or how heavy a box is.\" that tell people what is happening around the world would not exist were not for the moder communication abilities that computer provid us. Because information can be commucated so quick. so can reasearch. When the country of took a pole of people used computer for any type of reasearch, of those were students currently in school and of them have good grades. When the same survey was taken in the of people used computers fore reasons and were students who had good grade were not posible for me to access documents in the online I probably would not have gotten an A+ on my assignment! Could you amagine suddenly your Newspaper reporters couldn\\'t use the internet to work on their reports? The articles would probably be after the events occur. Most buissness, including the Newspaper, use the internet to advertise, shop, or read. The association of reported that in of used a website and of them were in good positions. The president of imports said that they use an online catalouge because is cheaper, but they can also promote that is to save trees, or for the castomer\\'s convinence. Small can make websites to promote them selves and explain their star to potential coustomers. the owner of said that the internet saved her resturant. wer not for the internet more people would be jobless in In conclusion computer help everyday people and without them most convinences would not exist. They help communicate around the world. Computers help people reaserch subjects for school reports, and they make the current economy get better everyday. In moderation computers are the most useful tool out there.'"
      ]
     },
     "execution_count": 26,
     "metadata": {},
     "output_type": "execute_result"
    }
   ],
   "source": [
    "normalized_dict['essay']['3']"
   ]
  },
  {
   "cell_type": "code",
   "execution_count": null,
   "id": "d5c231c4-7546-4f97-99bc-4c36a23a57b7",
   "metadata": {},
   "outputs": [],
   "source": []
  }
 ],
 "metadata": {
  "kernelspec": {
   "display_name": "Python 3 (ipykernel)",
   "language": "python",
   "name": "python3"
  },
  "language_info": {
   "codemirror_mode": {
    "name": "ipython",
    "version": 3
   },
   "file_extension": ".py",
   "mimetype": "text/x-python",
   "name": "python",
   "nbconvert_exporter": "python",
   "pygments_lexer": "ipython3",
   "version": "3.10.5"
  }
 },
 "nbformat": 4,
 "nbformat_minor": 5
}
