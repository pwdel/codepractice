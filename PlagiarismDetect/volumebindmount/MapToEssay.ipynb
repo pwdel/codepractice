{
 "cells": [
  {
   "cell_type": "markdown",
   "id": "d03844e2-4d3a-4d42-9f26-2d0a11e270cd",
   "metadata": {},
   "source": [
    "## Mapping Graphs to The Original Essay\n",
    "\n",
    "* The order of the essays has stayed consistent from the original CSV file, so tracing the essays back to their original text could be accomplished by their position in the final column.\n",
    "* If any cleaning is ever done that erases the row analysis information, it should ideally be done prior to mixing up the order in the map to maintain this consistent positioning.\n",
    "\n",
    "The, \"filtered\" highcos.csv database includes the original essay texts, so using that as a starting point to match essay texts to points on a graph should work fine.\n",
    "\n",
    "We're looking for \"hovering annotations.\" https://stackoverflow.com/questions/7908636/how-to-add-hovering-annotations-to-a-plot"
   ]
  },
  {
   "cell_type": "code",
   "execution_count": null,
   "id": "521a5e6c-4e8d-4a36-b7e9-38f06e5c036d",
   "metadata": {},
   "outputs": [],
   "source": []
  }
 ],
 "metadata": {
  "kernelspec": {
   "display_name": "Python 3 (ipykernel)",
   "language": "python",
   "name": "python3"
  },
  "language_info": {
   "codemirror_mode": {
    "name": "ipython",
    "version": 3
   },
   "file_extension": ".py",
   "mimetype": "text/x-python",
   "name": "python",
   "nbconvert_exporter": "python",
   "pygments_lexer": "ipython3",
   "version": "3.10.5"
  }
 },
 "nbformat": 4,
 "nbformat_minor": 5
}
