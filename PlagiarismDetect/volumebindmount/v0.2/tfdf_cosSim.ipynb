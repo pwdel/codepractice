{
 "cells": [
  {
   "cell_type": "code",
   "execution_count": 1,
   "id": "caeae5a1-5eba-4295-982a-72eb4d8b2db9",
   "metadata": {},
   "outputs": [
    {
     "name": "stdout",
     "output_type": "stream",
     "text": [
      "Requirement already satisfied: scikit-learn in /opt/conda/lib/python3.10/site-packages (1.1.2)\n",
      "Requirement already satisfied: joblib>=1.0.0 in /opt/conda/lib/python3.10/site-packages (from scikit-learn) (1.1.0)\n",
      "Requirement already satisfied: scipy>=1.3.2 in /opt/conda/lib/python3.10/site-packages (from scikit-learn) (1.9.0)\n",
      "Requirement already satisfied: numpy>=1.17.3 in /opt/conda/lib/python3.10/site-packages (from scikit-learn) (1.23.2)\n",
      "Requirement already satisfied: threadpoolctl>=2.0.0 in /opt/conda/lib/python3.10/site-packages (from scikit-learn) (3.1.0)\n",
      "Note: you may need to restart the kernel to use updated packages.\n"
     ]
    }
   ],
   "source": [
    "pip install -U scikit-learn"
   ]
  },
  {
   "cell_type": "code",
   "execution_count": 29,
   "id": "c60fc05f-e5c4-4d31-83cd-d6c734bd18f5",
   "metadata": {},
   "outputs": [],
   "source": [
    "import os\n",
    "import pandas as pd\n",
    "from sklearn.feature_extraction.text import TfidfVectorizer\n",
    "from sklearn.metrics.pairwise import cosine_similarity\n",
    "from scipy.spatial.distance import cdist\n",
    "import numpy as np"
   ]
  },
  {
   "cell_type": "code",
   "execution_count": 10,
   "id": "641a3c5c-5f6d-40a3-b301-f42ce41e3417",
   "metadata": {},
   "outputs": [],
   "source": [
    "def read_input_csv():\n",
    "    df = pd.read_csv('./highcos-plagiarism_included.csv', sep=',')\n",
    "    df1 = df[['essay']]\n",
    "    df1_dict = df1.to_dict('dict')\n",
    "    return df1, df1_dict\n",
    "    \n",
    "vectorize = lambda Text: TfidfVectorizer().fit_transform(Text).toarray()\n",
    "\n",
    "similarity = lambda doc1, doc2: cosine_similarity([doc1, doc2])"
   ]
  },
  {
   "cell_type": "code",
   "execution_count": 9,
   "id": "57e55fe3-cf25-45ef-8053-f89677ff2c9c",
   "metadata": {},
   "outputs": [],
   "source": [
    "df1, df1_dict = read_input_csv()"
   ]
  },
  {
   "cell_type": "code",
   "execution_count": 17,
   "id": "442dbd9f-4cff-4764-8836-87ea234ce7b0",
   "metadata": {},
   "outputs": [],
   "source": [
    "strList = [df1['essay'][0]]\n",
    "vectors_0 = vectorize(strList)\n",
    "\n",
    "strList = [df1['essay'][1]]\n",
    "vectors_1 = vectorize(strList)"
   ]
  },
  {
   "cell_type": "code",
   "execution_count": 18,
   "id": "beef8f67-b9da-4770-94a7-0a1934ccd9fa",
   "metadata": {},
   "outputs": [
    {
     "data": {
      "text/plain": [
       "array([[0.21016277, 0.02627035, 0.02627035, 0.02627035, 0.02627035,\n",
       "        0.10508139, 0.02627035, 0.02627035, 0.02627035, 0.05254069,\n",
       "        0.02627035, 0.10508139, 0.02627035, 0.07881104, 0.05254069,\n",
       "        0.02627035, 0.02627035, 0.02627035, 0.02627035, 0.02627035,\n",
       "        0.05254069, 0.02627035, 0.02627035, 0.10508139, 0.02627035,\n",
       "        0.13135173, 0.02627035, 0.02627035, 0.18389243, 0.05254069,\n",
       "        0.02627035, 0.02627035, 0.02627035, 0.02627035, 0.05254069,\n",
       "        0.02627035, 0.02627035, 0.02627035, 0.02627035, 0.02627035,\n",
       "        0.05254069, 0.02627035, 0.02627035, 0.02627035, 0.02627035,\n",
       "        0.02627035, 0.02627035, 0.02627035, 0.02627035, 0.13135173,\n",
       "        0.02627035, 0.02627035, 0.02627035, 0.02627035, 0.02627035,\n",
       "        0.05254069, 0.02627035, 0.05254069, 0.10508139, 0.02627035,\n",
       "        0.02627035, 0.05254069, 0.05254069, 0.02627035, 0.02627035,\n",
       "        0.07881104, 0.05254069, 0.10508139, 0.02627035, 0.05254069,\n",
       "        0.13135173, 0.02627035, 0.13135173, 0.05254069, 0.05254069,\n",
       "        0.05254069, 0.02627035, 0.10508139, 0.05254069, 0.02627035,\n",
       "        0.02627035, 0.02627035, 0.05254069, 0.02627035, 0.02627035,\n",
       "        0.02627035, 0.05254069, 0.05254069, 0.02627035, 0.10508139,\n",
       "        0.02627035, 0.10508139, 0.07881104, 0.18389243, 0.02627035,\n",
       "        0.26270347, 0.23643312, 0.02627035, 0.02627035, 0.10508139,\n",
       "        0.02627035, 0.02627035, 0.07881104, 0.02627035, 0.05254069,\n",
       "        0.02627035, 0.02627035, 0.02627035, 0.02627035, 0.02627035,\n",
       "        0.02627035, 0.02627035, 0.02627035, 0.02627035, 0.02627035,\n",
       "        0.02627035, 0.02627035, 0.02627035, 0.02627035, 0.02627035,\n",
       "        0.02627035, 0.07881104, 0.02627035, 0.02627035, 0.02627035,\n",
       "        0.02627035, 0.02627035, 0.02627035, 0.05254069, 0.05254069,\n",
       "        0.02627035, 0.31524416, 0.02627035, 0.02627035, 0.02627035,\n",
       "        0.02627035, 0.05254069, 0.02627035, 0.02627035, 0.10508139,\n",
       "        0.13135173, 0.26270347, 0.05254069, 0.02627035, 0.02627035,\n",
       "        0.15762208, 0.02627035, 0.02627035, 0.05254069, 0.05254069,\n",
       "        0.02627035, 0.02627035, 0.02627035, 0.18389243, 0.02627035,\n",
       "        0.28897382, 0.28897382, 0.02627035]])"
      ]
     },
     "execution_count": 18,
     "metadata": {},
     "output_type": "execute_result"
    }
   ],
   "source": [
    "vectors_0"
   ]
  },
  {
   "cell_type": "code",
   "execution_count": 26,
   "id": "cfaacd49-1196-4667-99ce-ed21999c11cc",
   "metadata": {},
   "outputs": [
    {
     "ename": "ValueError",
     "evalue": "XA and XB must have the same number of columns (i.e. feature dimension.)",
     "output_type": "error",
     "traceback": [
      "\u001b[0;31m---------------------------------------------------------------------------\u001b[0m",
      "\u001b[0;31mValueError\u001b[0m                                Traceback (most recent call last)",
      "Input \u001b[0;32mIn [26]\u001b[0m, in \u001b[0;36m<cell line: 2>\u001b[0;34m()\u001b[0m\n\u001b[1;32m      1\u001b[0m vectorList \u001b[38;5;241m=\u001b[39m [vectors_0,vectors_1]\n\u001b[0;32m----> 2\u001b[0m cosine_similarity_score \u001b[38;5;241m=\u001b[39m \u001b[38;5;241m1.\u001b[39m \u001b[38;5;241m-\u001b[39m \u001b[43mcdist\u001b[49m\u001b[43m(\u001b[49m\u001b[43mvectors_0\u001b[49m\u001b[43m,\u001b[49m\u001b[43m \u001b[49m\u001b[43mvectors_1\u001b[49m\u001b[43m,\u001b[49m\u001b[43m \u001b[49m\u001b[38;5;124;43m'\u001b[39;49m\u001b[38;5;124;43mcosine\u001b[39;49m\u001b[38;5;124;43m'\u001b[39;49m\u001b[43m)\u001b[49m\n",
      "File \u001b[0;32m/opt/conda/lib/python3.10/site-packages/scipy/spatial/distance.py:2910\u001b[0m, in \u001b[0;36mcdist\u001b[0;34m(XA, XB, metric, out, **kwargs)\u001b[0m\n\u001b[1;32m   2908\u001b[0m     \u001b[38;5;28;01mraise\u001b[39;00m \u001b[38;5;167;01mValueError\u001b[39;00m(\u001b[38;5;124m'\u001b[39m\u001b[38;5;124mXB must be a 2-dimensional array.\u001b[39m\u001b[38;5;124m'\u001b[39m)\n\u001b[1;32m   2909\u001b[0m \u001b[38;5;28;01mif\u001b[39;00m s[\u001b[38;5;241m1\u001b[39m] \u001b[38;5;241m!=\u001b[39m sB[\u001b[38;5;241m1\u001b[39m]:\n\u001b[0;32m-> 2910\u001b[0m     \u001b[38;5;28;01mraise\u001b[39;00m \u001b[38;5;167;01mValueError\u001b[39;00m(\u001b[38;5;124m'\u001b[39m\u001b[38;5;124mXA and XB must have the same number of columns \u001b[39m\u001b[38;5;124m'\u001b[39m\n\u001b[1;32m   2911\u001b[0m                      \u001b[38;5;124m'\u001b[39m\u001b[38;5;124m(i.e. feature dimension.)\u001b[39m\u001b[38;5;124m'\u001b[39m)\n\u001b[1;32m   2913\u001b[0m mA \u001b[38;5;241m=\u001b[39m s[\u001b[38;5;241m0\u001b[39m]\n\u001b[1;32m   2914\u001b[0m mB \u001b[38;5;241m=\u001b[39m sB[\u001b[38;5;241m0\u001b[39m]\n",
      "\u001b[0;31mValueError\u001b[0m: XA and XB must have the same number of columns (i.e. feature dimension.)"
     ]
    }
   ],
   "source": [
    "vectorList = [vectors_0,vectors_1]\n",
    "cosine_similarity_score = 1. - cdist(vectors_0, vectors_1, 'cosine')\n",
    "\n"
   ]
  },
  {
   "cell_type": "code",
   "execution_count": 30,
   "id": "cae314ab-9791-45e0-b020-309e5cb841a4",
   "metadata": {},
   "outputs": [
    {
     "data": {
      "text/plain": [
       "array([[0.5309894 , 0.89839163, 0.61568104, ..., 0.12699193, 0.54183309,\n",
       "        0.82100317],\n",
       "       [0.56247366, 0.03596714, 0.1747988 , ..., 0.80268252, 0.62655048,\n",
       "        0.69097281],\n",
       "       [0.86097381, 0.0902278 , 0.43230032, ..., 0.84211979, 0.49874214,\n",
       "        0.06625627],\n",
       "       ...,\n",
       "       [0.4817236 , 0.86571865, 0.69551452, ..., 0.39294491, 0.8314818 ,\n",
       "        0.1285262 ],\n",
       "       [0.85533976, 0.19008564, 0.35569371, ..., 0.11591191, 0.51426235,\n",
       "        0.96456571],\n",
       "       [0.61714911, 0.24049539, 0.65343188, ..., 0.13088412, 0.34357541,\n",
       "        0.71192107]])"
      ]
     },
     "execution_count": 30,
     "metadata": {},
     "output_type": "execute_result"
    }
   ],
   "source": [
    "x = np.random.rand(1000,1000)\n",
    "x"
   ]
  },
  {
   "cell_type": "markdown",
   "id": "55004e47-66e0-46fa-8663-4c3f2a9fda19",
   "metadata": {},
   "source": [
    "# Fixing the Unequal Vectors Problem\n",
    "\n",
    "* When we compare the cosine similarity between two essays, we are really comparing the cosine similarity between vectors. Cosine similarity can only be calculated on equal length vectors.\n",
    "* The way that the MPNet fine-tuned language model, all-MiniLM-L6-v2 deals with this problem, is that input text gets truncated down to 256 words.\n",
    "* If an input text were to be less than 256 words, then 0's need to be appended to the end of the vector.\n",
    "\n",
    "Note - the length equality restriction does not apply to the vectorization() function, but it does apply to the cosine_similarity function. Hence, we don't apply length similarity prior to vectorization to the text, but we do apply it to the vector produced by the text."
   ]
  },
  {
   "cell_type": "code",
   "execution_count": 161,
   "id": "3482c32c-9431-4193-8cb5-6f8d27e874bd",
   "metadata": {},
   "outputs": [],
   "source": [
    "def read_input_csv():\n",
    "    df = pd.read_csv('./highcos-plagiarism_included.csv', sep=',')\n",
    "    df1 = df[['essay']]\n",
    "    df1_dict = df1.to_dict('dict')\n",
    "    return df1, df1_dict\n",
    "\n",
    "def truncate_256(df1_dict):\n",
    "    truncated_dict = {}\n",
    "    final_truncated_dict = {}\n",
    "    for each in df1_dict['essay']:\n",
    "        text = df1_dict['essay'][each]\n",
    "        textTruncatedList = text.split()[0:256]\n",
    "        textTruncated = \" \".join(textTruncatedList)\n",
    "        truncated_dict[each] = textTruncated\n",
    "        \n",
    "    # add 0's in array to even out\n",
    "    for each in truncated_dict:\n",
    "        template = list(0 for i in range(0, 256))\n",
    "        if len(truncated_dict[each].split()) < 256:\n",
    "            shortList = truncated_dict[each].split()\n",
    "            template[:len(shortList)] = shortList\n",
    "            outputText=[]\n",
    "            for item in template:\n",
    "                outputText.append(str(item))\n",
    "                \n",
    "            textExtended = \" \".join(outputText)\n",
    "            truncated_dict[each] = textExtended\n",
    "            \n",
    "    final_truncated_dict['essay']=truncated_dict\n",
    "         \n",
    "    return final_truncated_dict\n",
    "\n",
    "def check_equallength(truncated_dict):\n",
    "    for item in truncated_dict['essay']:\n",
    "        if len(truncated_dict['essay'][item].split()) == 256:\n",
    "            print(\"Yes! \")\n",
    "        else:\n",
    "            print(\"No! \", item.split() - 256)"
   ]
  },
  {
   "cell_type": "code",
   "execution_count": 163,
   "id": "99a92797-396d-4f0a-b801-a46af0612120",
   "metadata": {},
   "outputs": [],
   "source": [
    "df1, df1_dict = read_input_csv()\n",
    "truncated_dict = truncate_256(df1_dict)\n",
    "# check_equallength(truncated_dict)\n"
   ]
  },
  {
   "cell_type": "code",
   "execution_count": 165,
   "id": "76f92317-058c-46d0-bebf-dc4067e62412",
   "metadata": {},
   "outputs": [
    {
     "name": "stdout",
     "output_type": "stream",
     "text": [
      "138\n",
      "91\n"
     ]
    }
   ],
   "source": [
    "strList = [truncated_dict['essay'][0]]\n",
    "vectors_0 = vectorize(strList)\n",
    "print(len(vectors_0[0]))\n",
    "\n",
    "strList = [truncated_dict['essay'][1]]\n",
    "vectors_1 = vectorize(strList)\n",
    "print(len(vectors_1[0]))\n",
    "\n",
    "# cosine_similarity_score = 1. - cdist(vectors_0, vectors_1, 'cosine')\n",
    "# cosine_similarity_score"
   ]
  },
  {
   "cell_type": "code",
   "execution_count": null,
   "id": "feb663e1-6b19-45c0-8506-eef487bcc771",
   "metadata": {},
   "outputs": [],
   "source": []
  }
 ],
 "metadata": {
  "kernelspec": {
   "display_name": "Python 3 (ipykernel)",
   "language": "python",
   "name": "python3"
  },
  "language_info": {
   "codemirror_mode": {
    "name": "ipython",
    "version": 3
   },
   "file_extension": ".py",
   "mimetype": "text/x-python",
   "name": "python",
   "nbconvert_exporter": "python",
   "pygments_lexer": "ipython3",
   "version": "3.10.5"
  }
 },
 "nbformat": 4,
 "nbformat_minor": 5
}
